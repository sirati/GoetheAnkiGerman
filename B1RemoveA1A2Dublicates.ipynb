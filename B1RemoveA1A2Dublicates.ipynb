{
 "cells": [
  {
   "cell_type": "code",
   "execution_count": 14,
   "metadata": {
    "collapsed": true
   },
   "outputs": [],
   "source": [
    "import inspect\n",
    "from typing import Union\n",
    "from pandas import DataFrame as DF\n",
    "import re\n",
    "from os import PathLike\n",
    "\n",
    "import pandas\n",
    "import numpy as np\n",
    "from typing import TypeVar, Callable\n",
    "\n",
    "T = TypeVar(\"T\")\n",
    "def singleton(self: T, method: Callable[[T, ...], any], *args, **kwargs) -> T:\n",
    "    method(*args, **kwargs)\n",
    "    return self"
   ]
  },
  {
   "cell_type": "code",
   "execution_count": 15,
   "outputs": [],
   "source": [
    "\n",
    "column_names = ['noteid', 'de_word', 'de_word_audio', 'de_word_alt', 'de_word_note', 'de_word_article', 'de_word_plural', 'de_word_plural_audio', 'de_word_inflected', 'de_word_inflected_audio',\n",
    "                'en_word_1', 'en_word_1_note', 'de_sen_1', 'de_sen_1_audio', 'en_sen_1', 'de_sen_1_note',\n",
    "                'en_word_2', 'en_word_2_note', 'de_sen_2', 'de_sen_2_audio', 'en_sen_2', 'de_sen_2_note',\n",
    "                'en_word_3', 'en_word_3_note', 'de_sen_3', 'de_sen_3_audio', 'en_sen_3', 'de_sen_3_note',\n",
    "                'en_word_4', 'en_word_4_note', 'de_sen_4', 'de_sen_4_audio', 'en_sen_4', 'de_sen_4_note',\n",
    "                'en_word_5', 'en_word_5_note', 'de_sen_5', 'de_sen_5_audio', 'en_sen_5', 'de_sen_5_note',\n",
    "                'en_word_6', 'en_word_6_note', 'de_sen_6', 'de_sen_6_audio', 'en_sen_6', 'de_sen_6_note',\n",
    "                'en_word_7', 'en_word_7_note', 'de_sen_7', 'de_sen_7_audio', 'en_sen_7', 'de_sen_7_note',\n",
    "                'en_word_8', 'en_word_8_note', 'de_sen_8', 'de_sen_8_audio', 'en_sen_8', 'de_sen_8_note',\n",
    "                'en_word_9', 'en_word_9_note', 'de_sen_9', 'de_sen_9_audio', 'en_sen_9', 'de_sen_9_note',\n",
    "                'en_word_10', 'en_word_10_note', 'de_sen_10', 'de_sen_10_audio', 'en_sen_10', 'fullgerman', 'part_of_speech', 'level', 'tags']\n",
    "FilePath = Union[str, \"PathLike[str]\"]\n",
    "\n",
    "\n",
    "def loadAnki(path: FilePath) -> DF:\n",
    "    df: pandas.DataFrame = pandas.read_csv(path, header=None, encoding='utf8', engine='python', dtype=str)\n",
    "    df.columns = column_names\n",
    "    df = df.fillna(value='')\n",
    "\n",
    "    for cn in df.columns:\n",
    "        mask = df[cn].str.startswith('\"')\n",
    "        df.loc[mask, cn] = [v[1:-1].replace('\"\"','\"') for v in df.loc[mask, cn]]\n",
    "\n",
    "    return df\n",
    "\n",
    "b1 = loadAnki(\"./data/DE_ Goethe Institute B1 Wordlist by sirati.csv\")\n",
    "a2 = loadAnki(\"./data/DE_ Goethe Institute A2 Wordlist by sirati.csv\")\n",
    "a1 = loadAnki(\"./data/DE_ Goethe Institute A1 Wordlist by sirati.csv\")"
   ],
   "metadata": {
    "collapsed": false,
    "pycharm": {
     "name": "#%%\n"
    }
   }
  },
  {
   "cell_type": "code",
   "execution_count": 16,
   "outputs": [],
   "source": [
    "from typing import Set\n",
    "\n",
    "\n",
    "def splitDoubleIntoAlt(deck):\n",
    "    mask = deck.de_word.str.contains('/')\n",
    "    deck.de_word_alt[mask] = [(word.split('/', 1)[1]+ \" \" + alt).strip()  for (word, alt) in deck.loc[mask, ['de_word', 'de_word_alt']].values]\n",
    "    deck.de_word[mask] = [v.split('/', 1)[0].strip()  for v in deck.de_word[mask]]\n",
    "\n",
    "\n",
    "splitDoubleIntoAlt(a1)\n",
    "splitDoubleIntoAlt(a2)\n",
    "\n",
    "maskNotVerb = b1.de_word_inflected.str.strip().str.len() == 0\n",
    "maskNotNoun = b1.de_word_plural.str.strip().str.len() == 0\n",
    "maskHasAlternative = b1.fullgerman.str.contains('/')\n",
    "\n",
    "#a1.de_word_alt[mask] = [(word.split('/', 1)[1]+ \" \" + alt).strip()  for (word, alt) in a1.loc[mask, ['de_word', 'de_word_alt']].values]\n",
    "#a1.de_word[mask] = [v.split('/', 1)[0].strip()  for v in a1.de_word[mask]]\n",
    "#mask\n"
   ],
   "metadata": {
    "collapsed": false,
    "pycharm": {
     "name": "#%%\n"
    }
   }
  },
  {
   "cell_type": "markdown",
   "source": [
    "Move non special cases to word_alt"
   ],
   "metadata": {
    "collapsed": false
   }
  },
  {
   "cell_type": "code",
   "execution_count": 17,
   "outputs": [],
   "source": [
    "maskSpecialEasy = maskNotVerb & maskHasAlternative & maskNotNoun\n",
    "\n",
    "b1Alt: DF = b1.loc[maskSpecialEasy, ['de_word', 'de_word_alt', 'de_word_inflected','de_word_plural', 'fullgerman']]\n",
    "b1Alt.fullgerman = b1Alt.fullgerman.str.lower().str.split('/').apply(set)\n",
    "\n",
    "b1Alt.fullgerman = [singleton(s, s.discard, word.lower()) for (word, s) in b1Alt.loc[:, ['de_word', 'fullgerman']].values]\n",
    "b1.de_word_alt[maskSpecialEasy] = [('/'.join(s) + \" \" + alt).strip()  for (alt, s) in b1Alt.loc[:, ['de_word_alt', 'fullgerman']].values]"
   ],
   "metadata": {
    "collapsed": false,
    "pycharm": {
     "name": "#%%\n"
    }
   }
  },
  {
   "cell_type": "markdown",
   "source": [
    "Ensure that double nouns have correct plural"
   ],
   "metadata": {
    "collapsed": false
   }
  },
  {
   "cell_type": "code",
   "execution_count": 18,
   "outputs": [
    {
     "name": "stderr",
     "output_type": "stream",
     "text": [
      "C:\\Users\\sirati97\\AppData\\Local\\Temp/ipykernel_924/3107278971.py:5: UserWarning: This pattern is interpreted as a regular expression, and has match groups. To actually get the groups, use str.extract.\n",
      "  type1 = b1Alt.fullgerman.str.contains(r'^(d(er|as|ie) +\\w+[^\\/\\n\\r]+(\\/|(?=$)) *)+$') #python no atomic groups :( ^(?>d(er|as|ie) +\\w+[^\\/\\n\\r]+(\\/|(?=$)) *)+$\n"
     ]
    },
    {
     "data": {
      "text/plain": "             noteid          de_word  \\\n225   1516347476435             Bank   \n433   1516347476643           Cousin   \n482   1516347476692        Diskothek   \n524   1516347476734          Ehefrau   \n525   1516347476735         Ehegatte   \n668   1516347476878      erschrecken   \n816   1516347477026           früher   \n893   1516347477103            gerne   \n894   1516347477104          gesamte   \n994   1516347477204           hängen   \n1023  1516347477233     herausfinden   \n1041  1516347477251           hinter   \n1117  1516347477327        irgendein   \n1204  1516347477414            Klima   \n1270  1516347477480  Kriminalpolizei   \n1293  1516347477503       Kursleiter   \n1558  1516347477768           Norden   \n1588  1516347477798              oft   \n1617  1516347477827            Osten   \n1897  1516347478107        Schrecken   \n1912  1516347478122          Schüler   \n1929  1516347478139              See   \n1966  1516347478176              Ski   \n1979  1516347478189           sollen   \n1990  1516347478200          so viel   \n2005  1516347478215      Speisekarte   \n2006  1516347478216      Speisewagen   \n2007  1516347478217        Vorspeise   \n2008  1516347478218    Spezialpflege   \n2098  1516347478308            Stück   \n2110  1516347478320            Süden   \n2203  1516347478413            Traum   \n2403  1516347478613             viel   \n2428  1516347478638            vorne   \n2475  1516347478685              weg   \n2485  1516347478695           weiter   \n2494  1516347478704            wenig   \n2515  1516347478725           wieder   \n2520  1516347478730         wie viel   \n2548  1516347478758             Wort   \n2564  1516347478774        Zahnpasta   \n2581  1516347478791             Zeug   \n2590  1516347478800            zirca   \n2612  1516347478822           zurück   \n2614  1516347478824         zusammen   \n\n                                          de_word_audio  \\\n225   [sound:sapi5js-90b96939-174ef917-fe2bae9e-94a7...   \n433   [sound:sapi5js-a594c371-8609ad86-2b272396-90a6...   \n482   [sound:sapi5js-ea6c3d9f-bc74154c-6310c4f3-59bd...   \n524   [sound:sapi5js-ac1d1fca-bd0a7d05-1f848ee0-3049...   \n525   [sound:sapi5js-0f7c2800-09da8220-d89e5a8c-926d...   \n668   [sound:sapi5js-3b80dce8-55bbe312-64fb6076-83ac...   \n816   [sound:sapi5js-64dab7f7-c5a76c41-c99fe338-deec...   \n893   [sound:sapi5js-fc47902f-4b3dc2b7-8742ef8a-311a...   \n894   [sound:sapi5js-316fad4f-5dd4a023-d740e6cd-2600...   \n994   [sound:sapi5js-208f71f2-5eee5c4b-6d331c97-d3b1...   \n1023  [sound:sapi5js-b8b6563e-1dda8bc0-a0b55d4a-724e...   \n1041  [sound:sapi5js-e33bf868-fe9947ce-717109c4-7bb8...   \n1117  [sound:sapi5js-4380fb27-08552a01-af10485d-1ee0...   \n1204  [sound:sapi5js-7d57daf1-12c95b1e-3365b0d2-dc22...   \n1270  [sound:sapi5js-cba433b6-970c0294-d9be33b3-dce3...   \n1293  [sound:sapi5js-00111f8f-22129948-808e7897-abfd...   \n1558  [sound:sapi5js-ec8a8511-b365448a-ae62f078-a6f0...   \n1588  [sound:sapi5js-b878b3c5-0ea4aa83-e35d5aab-276e...   \n1617  [sound:sapi5js-38ff21da-cf23d27b-a37a42e4-555c...   \n1897  [sound:sapi5js-e784462c-16aeb1e7-8cb1f4a5-2138...   \n1912  [sound:sapi5js-9f9f6585-2e39e84e-3add8690-3bd5...   \n1929  [sound:sapi5js-3853a516-9d74cb82-1d0ede67-4c07...   \n1966  [sound:sapi5js-8f7f4313-2382fad1-17b64386-0aac...   \n1979  [sound:sapi5js-1c3a22d3-6a1ee3e1-79b3358f-2d7c...   \n1990  [sound:sapi5js-c73c4bcf-9fcb81e8-96688ed7-1341...   \n2005  [sound:sapi5js-043784f1-470d86ab-a6798a0e-aa4f...   \n2006  [sound:sapi5js-6733a41c-e5ec9af8-586eefdd-18c5...   \n2007  [sound:sapi5js-07899273-6c295dfc-3f125d2d-3c5c...   \n2008  [sound:sapi5js-cfb16ecf-76f08ca7-73cbd262-13ee...   \n2098  [sound:sapi5js-5e67667e-968cbb08-e84fd640-b413...   \n2110  [sound:sapi5js-37af8ab4-b87e4a3d-bea9060b-7de5...   \n2203  [sound:sapi5js-7d907e66-cc6b5e63-df22c62e-f1c7...   \n2403  [sound:sapi5js-fbebed51-1861c53c-24311f18-0479...   \n2428  [sound:sapi5js-d574e936-39ea73c4-e980e380-46b0...   \n2475  [sound:sapi5js-d055a72c-f632d24b-33266f60-9a42...   \n2485  [sound:sapi5js-36364d73-f69dfc6a-eda7fffe-9ae7...   \n2494  [sound:sapi5js-a1be99b8-59ff2b7b-ef743543-53d1...   \n2515  [sound:sapi5js-4abc88a8-bd41d7c1-b7071791-9bfa...   \n2520  [sound:sapi5js-e92cb95f-73fafc0b-ed381c5b-63e4...   \n2548  [sound:sapi5js-ea7738ef-5aab3760-6b2564a8-2ded...   \n2564  [sound:sapi5js-663a7aaa-73d341c5-4ded8706-e525...   \n2581  [sound:sapi5js-4e52e756-235e7c6d-08e5f28d-7cd4...   \n2590  [sound:sapi5js-27464218-3fae48e0-dfcd4450-d747...   \n2612  [sound:sapi5js-a25ad515-254de6ae-d4c35a46-a027...   \n2614  [sound:sapi5js-554d8884-04be6431-bd7bf129-21ea...   \n\n                                            de_word_alt de_word_note  \\\n225                                                                    \n433                                             Cousine                \n482                                               Disko                \n524                                             Ehemann                \n525                                           Ehegattin                \n668   jdn. erschrecken, erschreckt, erschreckte/ersc...                \n816                                             früher-                \n893                                                gern                \n894                                             gesamt-                \n994   hängen, hängt, hängte, hat gehängt/hängen, hän...                \n1023  (he)rausfinden, findet heraus, fand heraus, ha...                \n1041                                            hinter-                \n1117                                 irgendein-/irgend-                \n1204                                                                   \n1270                                                                   \n1293                                                -In                \n1558                                                                   \n1588                                              öfter                \n1617                                                                   \n1897                                            Schreck                \n1912                                          Schülerin                \n1929                                            Nordsee                \n1966                                                                   \n1979        sollen, soll, sollte, hat gesollt/… ,sollen                \n1990                                        so viel wie                \n2005                                                                   \n2006                                                                   \n2007                                                                   \n2008                                                                   \n2098                                                                   \n2110                                                                   \n2203                                                                   \n2403                                              viele                \n2428                                               vorn                \n2475                                                                   \n2485                                            weiter-                \n2494                                             wenige                \n2515                                            wieder-                \n2520                                          wie viele                \n2548                                                                   \n2564                                          Zahncreme                \n2581                                                                   \n2590                                        zirka/circa                \n2612                                            zurück-                \n2614                                          zusammen-                \n\n     de_word_article            de_word_plural de_word_plural_audio  \\\n225         die, die             Banken, Bänke                        \n433         der, die         Cousinen, Cousins                        \n482         die, die       Diskotheken, Diskos                        \n524         die, der      Ehefrauen, Ehemänner                        \n525         der, die   Ehegattinnen, Ehegatten                        \n668                                                                   \n816                                                                   \n893                                                                   \n894                                                                   \n994                                                                   \n1023                                                                  \n1041                                                                  \n1117                                                                  \n1204             das  Klimata, Klimate, Klimas                        \n1270             die         Kriminalpolizeien                        \n1293             der      -Ininnen, Kursleiter                        \n1558             der                       Sg.                        \n1588                                                                  \n1617             der                       Sg.                        \n1897             der                 Schrecken                        \n1912        der, die     Schülerinnen, Schüler                        \n1929   der, die, die                      Seen                        \n1966             der                Ski, Skier                        \n1979                                                                  \n1990                                                                  \n2005             die              Speisekarten                        \n2006             der               Speisewagen                        \n2007             die                Vorspeisen                        \n2008             die            Spezialpflegen                        \n2098             das            Stücke, Stücke                        \n2110             der                       Sg.                        \n2203             der                    Träume                        \n2403                                                                  \n2428                                                                  \n2475                                                                  \n2485                                                                  \n2494                                                                  \n2515                                                                  \n2520                                                                  \n2548        das, das             Worte, Wörter                        \n2564        die, die   Zahnpastaen, Zahncremen                        \n2581             das                       Sg.                        \n2590                                                                  \n2612                                                                  \n2614                                                                  \n\n     de_word_inflected de_word_inflected_audio  ... de_sen_9_note en_word_10  \\\n225                                             ...                            \n433                                             ...                            \n482                                             ...                            \n524                                             ...                            \n525                                             ...                            \n668                                             ...                            \n816                                             ...                            \n893                                             ...                            \n894                                             ...                            \n994                                             ...                            \n1023                                            ...                            \n1041                                            ...                            \n1117                                            ...                            \n1204                                            ...                            \n1270                                            ...                            \n1293                                            ...                            \n1558                                            ...                            \n1588                                            ...                            \n1617                                            ...                            \n1897                                            ...                            \n1912                                            ...                            \n1929                                            ...                            \n1966                                            ...                            \n1979                                            ...                            \n1990                                            ...                            \n2005                                            ...                            \n2006                                            ...                            \n2007                                            ...                            \n2008                                            ...                            \n2098                                            ...                            \n2110                                            ...                            \n2203                                            ...                            \n2403                                            ...                            \n2428                                            ...                            \n2475                                            ...                            \n2485                                            ...                            \n2494                                            ...                            \n2515                                            ...                            \n2520                                            ...                            \n2548                                            ...                            \n2564                                            ...                            \n2581                                            ...                            \n2590                                            ...                            \n2612                                            ...                            \n2614                                            ...                            \n\n     en_word_10_note de_sen_10 de_sen_10_audio en_sen_10  \\\n225                                                        \n433                                                        \n482                                                        \n524                                                        \n525                                                        \n668                                                        \n816                                                        \n893                                                        \n894                                                        \n994                                                        \n1023                                                       \n1041                                                       \n1117                                                       \n1204                                                       \n1270                                                       \n1293                                                       \n1558                                                       \n1588                                                       \n1617                                                       \n1897                                                       \n1912                                                       \n1929                                                       \n1966                                                       \n1979                                                       \n1990                                                       \n2005                                                       \n2006                                                       \n2007                                                       \n2008                                                       \n2098                                                       \n2110                                                       \n2203                                                       \n2403                                                       \n2428                                                       \n2475                                                       \n2485                                                       \n2494                                                       \n2515                                                       \n2520                                                       \n2548                                                       \n2564                                                       \n2581                                                       \n2590                                                       \n2612                                                       \n2614                                                       \n\n                                             fullgerman part_of_speech level  \\\n225                         die Bank, -\"e/die Bank, -en                  226   \n433                    der Cousin, -s / die Cousine, -n                  434   \n482                  die Diskothek, -en / die Disko, -s                  483   \n524                die Ehefrau, -en / der Ehemann, -\"er                  525   \n525              der Ehegatte, -n / die Ehegattin, -nen                  526   \n668   erschrecken, erschrickt, erschrak, ist erschro...                  669   \n816                                      früher/früher-                  817   \n893                                          gern/gerne                  894   \n894                                     gesamt-/Gesamt-                  895   \n994   hängen, hängt, hing, hat gehangen / hängen, hä...                  995   \n1023  heraus-, raus- / (he)rausfinden, findet heraus...                 1024   \n1041                                     hinter/hinter-                 1042   \n1117                                 irgend-/irgendein-                 1118   \n1204                              das Klima, -ta/-te/-s                 1205   \n1270               die Kriminalpolizei, -en / Kriminal-                 1271   \n1293                   der Kursleiter / -in, - / -innen                 1294   \n1558                         der Norden/Nord/Nord (Sg.)                 1559   \n1588                                          oft/öfter                 1589   \n1617                            der Osten/Ost/Ost (Sg.)                 1617   \n1897                     der Schreck/Schrecken, -en / -                 1897   \n1912               der Schüler, - / die Schülerin, -nen                 1912   \n1929                der See, -n / die See / die Nordsee                 1929   \n1966                                   der Ski, - / -er                 1966   \n1979        sollen, soll, sollte, hat gesollt/… ,sollen                 1979   \n1990                                so viel/so viel wie                 1990   \n2005                      die Speisekarte, -n / Speise-                 2005   \n2006                       der Speisewagen, - / Speise-                 2006   \n2007                        die Vorspeise, -n / -speise                 2007   \n2008                   die Spezialpflege, -n / Spezial-                 2008   \n2098                         das Stück, -e / -stück, -e                 2098   \n2110                            der Süden/Süd/Süd (Sg.)                 2110   \n2203                            der Traum, -\"e / Traum-                 2203   \n2403                                         viel/viele                 2403   \n2428                                         vorn/vorne                 2428   \n2475                                            weg/weg                 2475   \n2485                                     weiter/weiter-                 2485   \n2494                                       wenig/wenige                 2494   \n2515                                     wieder/wieder-                 2515   \n2520                                 wie viel/wie viele                 2520   \n2548                      das Wort, -\"er / das Wort, -e                 2548   \n2564            die Zahnpasta / die Zahncreme, -en / -n                 2564   \n2581                             das Zeug (Sg.) / -zeug                 2581   \n2590                                        zirka/circa                 2590   \n2612                                     zurück/zurück-                 2612   \n2614                                 zusammen/zusammen-                 2614   \n\n     tags  \n225        \n433        \n482        \n524        \n525        \n668        \n816        \n893        \n894        \n994        \n1023       \n1041       \n1117       \n1204       \n1270       \n1293       \n1558       \n1588       \n1617       \n1897       \n1912       \n1929       \n1966       \n1979       \n1990       \n2005       \n2006       \n2007       \n2008       \n2098       \n2110       \n2203       \n2403       \n2428       \n2475       \n2485       \n2494       \n2515       \n2520       \n2548       \n2564       \n2581       \n2590       \n2612       \n2614       \n\n[45 rows x 73 columns]",
      "text/html": "<div>\n<style scoped>\n    .dataframe tbody tr th:only-of-type {\n        vertical-align: middle;\n    }\n\n    .dataframe tbody tr th {\n        vertical-align: top;\n    }\n\n    .dataframe thead th {\n        text-align: right;\n    }\n</style>\n<table border=\"1\" class=\"dataframe\">\n  <thead>\n    <tr style=\"text-align: right;\">\n      <th></th>\n      <th>noteid</th>\n      <th>de_word</th>\n      <th>de_word_audio</th>\n      <th>de_word_alt</th>\n      <th>de_word_note</th>\n      <th>de_word_article</th>\n      <th>de_word_plural</th>\n      <th>de_word_plural_audio</th>\n      <th>de_word_inflected</th>\n      <th>de_word_inflected_audio</th>\n      <th>...</th>\n      <th>de_sen_9_note</th>\n      <th>en_word_10</th>\n      <th>en_word_10_note</th>\n      <th>de_sen_10</th>\n      <th>de_sen_10_audio</th>\n      <th>en_sen_10</th>\n      <th>fullgerman</th>\n      <th>part_of_speech</th>\n      <th>level</th>\n      <th>tags</th>\n    </tr>\n  </thead>\n  <tbody>\n    <tr>\n      <th>225</th>\n      <td>1516347476435</td>\n      <td>Bank</td>\n      <td>[sound:sapi5js-90b96939-174ef917-fe2bae9e-94a7...</td>\n      <td></td>\n      <td></td>\n      <td>die, die</td>\n      <td>Banken, Bänke</td>\n      <td></td>\n      <td></td>\n      <td></td>\n      <td>...</td>\n      <td></td>\n      <td></td>\n      <td></td>\n      <td></td>\n      <td></td>\n      <td></td>\n      <td>die Bank, -\"e/die Bank, -en</td>\n      <td></td>\n      <td>226</td>\n      <td></td>\n    </tr>\n    <tr>\n      <th>433</th>\n      <td>1516347476643</td>\n      <td>Cousin</td>\n      <td>[sound:sapi5js-a594c371-8609ad86-2b272396-90a6...</td>\n      <td>Cousine</td>\n      <td></td>\n      <td>der, die</td>\n      <td>Cousinen, Cousins</td>\n      <td></td>\n      <td></td>\n      <td></td>\n      <td>...</td>\n      <td></td>\n      <td></td>\n      <td></td>\n      <td></td>\n      <td></td>\n      <td></td>\n      <td>der Cousin, -s / die Cousine, -n</td>\n      <td></td>\n      <td>434</td>\n      <td></td>\n    </tr>\n    <tr>\n      <th>482</th>\n      <td>1516347476692</td>\n      <td>Diskothek</td>\n      <td>[sound:sapi5js-ea6c3d9f-bc74154c-6310c4f3-59bd...</td>\n      <td>Disko</td>\n      <td></td>\n      <td>die, die</td>\n      <td>Diskotheken, Diskos</td>\n      <td></td>\n      <td></td>\n      <td></td>\n      <td>...</td>\n      <td></td>\n      <td></td>\n      <td></td>\n      <td></td>\n      <td></td>\n      <td></td>\n      <td>die Diskothek, -en / die Disko, -s</td>\n      <td></td>\n      <td>483</td>\n      <td></td>\n    </tr>\n    <tr>\n      <th>524</th>\n      <td>1516347476734</td>\n      <td>Ehefrau</td>\n      <td>[sound:sapi5js-ac1d1fca-bd0a7d05-1f848ee0-3049...</td>\n      <td>Ehemann</td>\n      <td></td>\n      <td>die, der</td>\n      <td>Ehefrauen, Ehemänner</td>\n      <td></td>\n      <td></td>\n      <td></td>\n      <td>...</td>\n      <td></td>\n      <td></td>\n      <td></td>\n      <td></td>\n      <td></td>\n      <td></td>\n      <td>die Ehefrau, -en / der Ehemann, -\"er</td>\n      <td></td>\n      <td>525</td>\n      <td></td>\n    </tr>\n    <tr>\n      <th>525</th>\n      <td>1516347476735</td>\n      <td>Ehegatte</td>\n      <td>[sound:sapi5js-0f7c2800-09da8220-d89e5a8c-926d...</td>\n      <td>Ehegattin</td>\n      <td></td>\n      <td>der, die</td>\n      <td>Ehegattinnen, Ehegatten</td>\n      <td></td>\n      <td></td>\n      <td></td>\n      <td>...</td>\n      <td></td>\n      <td></td>\n      <td></td>\n      <td></td>\n      <td></td>\n      <td></td>\n      <td>der Ehegatte, -n / die Ehegattin, -nen</td>\n      <td></td>\n      <td>526</td>\n      <td></td>\n    </tr>\n    <tr>\n      <th>668</th>\n      <td>1516347476878</td>\n      <td>erschrecken</td>\n      <td>[sound:sapi5js-3b80dce8-55bbe312-64fb6076-83ac...</td>\n      <td>jdn. erschrecken, erschreckt, erschreckte/ersc...</td>\n      <td></td>\n      <td></td>\n      <td></td>\n      <td></td>\n      <td></td>\n      <td></td>\n      <td>...</td>\n      <td></td>\n      <td></td>\n      <td></td>\n      <td></td>\n      <td></td>\n      <td></td>\n      <td>erschrecken, erschrickt, erschrak, ist erschro...</td>\n      <td></td>\n      <td>669</td>\n      <td></td>\n    </tr>\n    <tr>\n      <th>816</th>\n      <td>1516347477026</td>\n      <td>früher</td>\n      <td>[sound:sapi5js-64dab7f7-c5a76c41-c99fe338-deec...</td>\n      <td>früher-</td>\n      <td></td>\n      <td></td>\n      <td></td>\n      <td></td>\n      <td></td>\n      <td></td>\n      <td>...</td>\n      <td></td>\n      <td></td>\n      <td></td>\n      <td></td>\n      <td></td>\n      <td></td>\n      <td>früher/früher-</td>\n      <td></td>\n      <td>817</td>\n      <td></td>\n    </tr>\n    <tr>\n      <th>893</th>\n      <td>1516347477103</td>\n      <td>gerne</td>\n      <td>[sound:sapi5js-fc47902f-4b3dc2b7-8742ef8a-311a...</td>\n      <td>gern</td>\n      <td></td>\n      <td></td>\n      <td></td>\n      <td></td>\n      <td></td>\n      <td></td>\n      <td>...</td>\n      <td></td>\n      <td></td>\n      <td></td>\n      <td></td>\n      <td></td>\n      <td></td>\n      <td>gern/gerne</td>\n      <td></td>\n      <td>894</td>\n      <td></td>\n    </tr>\n    <tr>\n      <th>894</th>\n      <td>1516347477104</td>\n      <td>gesamte</td>\n      <td>[sound:sapi5js-316fad4f-5dd4a023-d740e6cd-2600...</td>\n      <td>gesamt-</td>\n      <td></td>\n      <td></td>\n      <td></td>\n      <td></td>\n      <td></td>\n      <td></td>\n      <td>...</td>\n      <td></td>\n      <td></td>\n      <td></td>\n      <td></td>\n      <td></td>\n      <td></td>\n      <td>gesamt-/Gesamt-</td>\n      <td></td>\n      <td>895</td>\n      <td></td>\n    </tr>\n    <tr>\n      <th>994</th>\n      <td>1516347477204</td>\n      <td>hängen</td>\n      <td>[sound:sapi5js-208f71f2-5eee5c4b-6d331c97-d3b1...</td>\n      <td>hängen, hängt, hängte, hat gehängt/hängen, hän...</td>\n      <td></td>\n      <td></td>\n      <td></td>\n      <td></td>\n      <td></td>\n      <td></td>\n      <td>...</td>\n      <td></td>\n      <td></td>\n      <td></td>\n      <td></td>\n      <td></td>\n      <td></td>\n      <td>hängen, hängt, hing, hat gehangen / hängen, hä...</td>\n      <td></td>\n      <td>995</td>\n      <td></td>\n    </tr>\n    <tr>\n      <th>1023</th>\n      <td>1516347477233</td>\n      <td>herausfinden</td>\n      <td>[sound:sapi5js-b8b6563e-1dda8bc0-a0b55d4a-724e...</td>\n      <td>(he)rausfinden, findet heraus, fand heraus, ha...</td>\n      <td></td>\n      <td></td>\n      <td></td>\n      <td></td>\n      <td></td>\n      <td></td>\n      <td>...</td>\n      <td></td>\n      <td></td>\n      <td></td>\n      <td></td>\n      <td></td>\n      <td></td>\n      <td>heraus-, raus- / (he)rausfinden, findet heraus...</td>\n      <td></td>\n      <td>1024</td>\n      <td></td>\n    </tr>\n    <tr>\n      <th>1041</th>\n      <td>1516347477251</td>\n      <td>hinter</td>\n      <td>[sound:sapi5js-e33bf868-fe9947ce-717109c4-7bb8...</td>\n      <td>hinter-</td>\n      <td></td>\n      <td></td>\n      <td></td>\n      <td></td>\n      <td></td>\n      <td></td>\n      <td>...</td>\n      <td></td>\n      <td></td>\n      <td></td>\n      <td></td>\n      <td></td>\n      <td></td>\n      <td>hinter/hinter-</td>\n      <td></td>\n      <td>1042</td>\n      <td></td>\n    </tr>\n    <tr>\n      <th>1117</th>\n      <td>1516347477327</td>\n      <td>irgendein</td>\n      <td>[sound:sapi5js-4380fb27-08552a01-af10485d-1ee0...</td>\n      <td>irgendein-/irgend-</td>\n      <td></td>\n      <td></td>\n      <td></td>\n      <td></td>\n      <td></td>\n      <td></td>\n      <td>...</td>\n      <td></td>\n      <td></td>\n      <td></td>\n      <td></td>\n      <td></td>\n      <td></td>\n      <td>irgend-/irgendein-</td>\n      <td></td>\n      <td>1118</td>\n      <td></td>\n    </tr>\n    <tr>\n      <th>1204</th>\n      <td>1516347477414</td>\n      <td>Klima</td>\n      <td>[sound:sapi5js-7d57daf1-12c95b1e-3365b0d2-dc22...</td>\n      <td></td>\n      <td></td>\n      <td>das</td>\n      <td>Klimata, Klimate, Klimas</td>\n      <td></td>\n      <td></td>\n      <td></td>\n      <td>...</td>\n      <td></td>\n      <td></td>\n      <td></td>\n      <td></td>\n      <td></td>\n      <td></td>\n      <td>das Klima, -ta/-te/-s</td>\n      <td></td>\n      <td>1205</td>\n      <td></td>\n    </tr>\n    <tr>\n      <th>1270</th>\n      <td>1516347477480</td>\n      <td>Kriminalpolizei</td>\n      <td>[sound:sapi5js-cba433b6-970c0294-d9be33b3-dce3...</td>\n      <td></td>\n      <td></td>\n      <td>die</td>\n      <td>Kriminalpolizeien</td>\n      <td></td>\n      <td></td>\n      <td></td>\n      <td>...</td>\n      <td></td>\n      <td></td>\n      <td></td>\n      <td></td>\n      <td></td>\n      <td></td>\n      <td>die Kriminalpolizei, -en / Kriminal-</td>\n      <td></td>\n      <td>1271</td>\n      <td></td>\n    </tr>\n    <tr>\n      <th>1293</th>\n      <td>1516347477503</td>\n      <td>Kursleiter</td>\n      <td>[sound:sapi5js-00111f8f-22129948-808e7897-abfd...</td>\n      <td>-In</td>\n      <td></td>\n      <td>der</td>\n      <td>-Ininnen, Kursleiter</td>\n      <td></td>\n      <td></td>\n      <td></td>\n      <td>...</td>\n      <td></td>\n      <td></td>\n      <td></td>\n      <td></td>\n      <td></td>\n      <td></td>\n      <td>der Kursleiter / -in, - / -innen</td>\n      <td></td>\n      <td>1294</td>\n      <td></td>\n    </tr>\n    <tr>\n      <th>1558</th>\n      <td>1516347477768</td>\n      <td>Norden</td>\n      <td>[sound:sapi5js-ec8a8511-b365448a-ae62f078-a6f0...</td>\n      <td></td>\n      <td></td>\n      <td>der</td>\n      <td>Sg.</td>\n      <td></td>\n      <td></td>\n      <td></td>\n      <td>...</td>\n      <td></td>\n      <td></td>\n      <td></td>\n      <td></td>\n      <td></td>\n      <td></td>\n      <td>der Norden/Nord/Nord (Sg.)</td>\n      <td></td>\n      <td>1559</td>\n      <td></td>\n    </tr>\n    <tr>\n      <th>1588</th>\n      <td>1516347477798</td>\n      <td>oft</td>\n      <td>[sound:sapi5js-b878b3c5-0ea4aa83-e35d5aab-276e...</td>\n      <td>öfter</td>\n      <td></td>\n      <td></td>\n      <td></td>\n      <td></td>\n      <td></td>\n      <td></td>\n      <td>...</td>\n      <td></td>\n      <td></td>\n      <td></td>\n      <td></td>\n      <td></td>\n      <td></td>\n      <td>oft/öfter</td>\n      <td></td>\n      <td>1589</td>\n      <td></td>\n    </tr>\n    <tr>\n      <th>1617</th>\n      <td>1516347477827</td>\n      <td>Osten</td>\n      <td>[sound:sapi5js-38ff21da-cf23d27b-a37a42e4-555c...</td>\n      <td></td>\n      <td></td>\n      <td>der</td>\n      <td>Sg.</td>\n      <td></td>\n      <td></td>\n      <td></td>\n      <td>...</td>\n      <td></td>\n      <td></td>\n      <td></td>\n      <td></td>\n      <td></td>\n      <td></td>\n      <td>der Osten/Ost/Ost (Sg.)</td>\n      <td></td>\n      <td>1617</td>\n      <td></td>\n    </tr>\n    <tr>\n      <th>1897</th>\n      <td>1516347478107</td>\n      <td>Schrecken</td>\n      <td>[sound:sapi5js-e784462c-16aeb1e7-8cb1f4a5-2138...</td>\n      <td>Schreck</td>\n      <td></td>\n      <td>der</td>\n      <td>Schrecken</td>\n      <td></td>\n      <td></td>\n      <td></td>\n      <td>...</td>\n      <td></td>\n      <td></td>\n      <td></td>\n      <td></td>\n      <td></td>\n      <td></td>\n      <td>der Schreck/Schrecken, -en / -</td>\n      <td></td>\n      <td>1897</td>\n      <td></td>\n    </tr>\n    <tr>\n      <th>1912</th>\n      <td>1516347478122</td>\n      <td>Schüler</td>\n      <td>[sound:sapi5js-9f9f6585-2e39e84e-3add8690-3bd5...</td>\n      <td>Schülerin</td>\n      <td></td>\n      <td>der, die</td>\n      <td>Schülerinnen, Schüler</td>\n      <td></td>\n      <td></td>\n      <td></td>\n      <td>...</td>\n      <td></td>\n      <td></td>\n      <td></td>\n      <td></td>\n      <td></td>\n      <td></td>\n      <td>der Schüler, - / die Schülerin, -nen</td>\n      <td></td>\n      <td>1912</td>\n      <td></td>\n    </tr>\n    <tr>\n      <th>1929</th>\n      <td>1516347478139</td>\n      <td>See</td>\n      <td>[sound:sapi5js-3853a516-9d74cb82-1d0ede67-4c07...</td>\n      <td>Nordsee</td>\n      <td></td>\n      <td>der, die, die</td>\n      <td>Seen</td>\n      <td></td>\n      <td></td>\n      <td></td>\n      <td>...</td>\n      <td></td>\n      <td></td>\n      <td></td>\n      <td></td>\n      <td></td>\n      <td></td>\n      <td>der See, -n / die See / die Nordsee</td>\n      <td></td>\n      <td>1929</td>\n      <td></td>\n    </tr>\n    <tr>\n      <th>1966</th>\n      <td>1516347478176</td>\n      <td>Ski</td>\n      <td>[sound:sapi5js-8f7f4313-2382fad1-17b64386-0aac...</td>\n      <td></td>\n      <td></td>\n      <td>der</td>\n      <td>Ski, Skier</td>\n      <td></td>\n      <td></td>\n      <td></td>\n      <td>...</td>\n      <td></td>\n      <td></td>\n      <td></td>\n      <td></td>\n      <td></td>\n      <td></td>\n      <td>der Ski, - / -er</td>\n      <td></td>\n      <td>1966</td>\n      <td></td>\n    </tr>\n    <tr>\n      <th>1979</th>\n      <td>1516347478189</td>\n      <td>sollen</td>\n      <td>[sound:sapi5js-1c3a22d3-6a1ee3e1-79b3358f-2d7c...</td>\n      <td>sollen, soll, sollte, hat gesollt/… ,sollen</td>\n      <td></td>\n      <td></td>\n      <td></td>\n      <td></td>\n      <td></td>\n      <td></td>\n      <td>...</td>\n      <td></td>\n      <td></td>\n      <td></td>\n      <td></td>\n      <td></td>\n      <td></td>\n      <td>sollen, soll, sollte, hat gesollt/… ,sollen</td>\n      <td></td>\n      <td>1979</td>\n      <td></td>\n    </tr>\n    <tr>\n      <th>1990</th>\n      <td>1516347478200</td>\n      <td>so viel</td>\n      <td>[sound:sapi5js-c73c4bcf-9fcb81e8-96688ed7-1341...</td>\n      <td>so viel wie</td>\n      <td></td>\n      <td></td>\n      <td></td>\n      <td></td>\n      <td></td>\n      <td></td>\n      <td>...</td>\n      <td></td>\n      <td></td>\n      <td></td>\n      <td></td>\n      <td></td>\n      <td></td>\n      <td>so viel/so viel wie</td>\n      <td></td>\n      <td>1990</td>\n      <td></td>\n    </tr>\n    <tr>\n      <th>2005</th>\n      <td>1516347478215</td>\n      <td>Speisekarte</td>\n      <td>[sound:sapi5js-043784f1-470d86ab-a6798a0e-aa4f...</td>\n      <td></td>\n      <td></td>\n      <td>die</td>\n      <td>Speisekarten</td>\n      <td></td>\n      <td></td>\n      <td></td>\n      <td>...</td>\n      <td></td>\n      <td></td>\n      <td></td>\n      <td></td>\n      <td></td>\n      <td></td>\n      <td>die Speisekarte, -n / Speise-</td>\n      <td></td>\n      <td>2005</td>\n      <td></td>\n    </tr>\n    <tr>\n      <th>2006</th>\n      <td>1516347478216</td>\n      <td>Speisewagen</td>\n      <td>[sound:sapi5js-6733a41c-e5ec9af8-586eefdd-18c5...</td>\n      <td></td>\n      <td></td>\n      <td>der</td>\n      <td>Speisewagen</td>\n      <td></td>\n      <td></td>\n      <td></td>\n      <td>...</td>\n      <td></td>\n      <td></td>\n      <td></td>\n      <td></td>\n      <td></td>\n      <td></td>\n      <td>der Speisewagen, - / Speise-</td>\n      <td></td>\n      <td>2006</td>\n      <td></td>\n    </tr>\n    <tr>\n      <th>2007</th>\n      <td>1516347478217</td>\n      <td>Vorspeise</td>\n      <td>[sound:sapi5js-07899273-6c295dfc-3f125d2d-3c5c...</td>\n      <td></td>\n      <td></td>\n      <td>die</td>\n      <td>Vorspeisen</td>\n      <td></td>\n      <td></td>\n      <td></td>\n      <td>...</td>\n      <td></td>\n      <td></td>\n      <td></td>\n      <td></td>\n      <td></td>\n      <td></td>\n      <td>die Vorspeise, -n / -speise</td>\n      <td></td>\n      <td>2007</td>\n      <td></td>\n    </tr>\n    <tr>\n      <th>2008</th>\n      <td>1516347478218</td>\n      <td>Spezialpflege</td>\n      <td>[sound:sapi5js-cfb16ecf-76f08ca7-73cbd262-13ee...</td>\n      <td></td>\n      <td></td>\n      <td>die</td>\n      <td>Spezialpflegen</td>\n      <td></td>\n      <td></td>\n      <td></td>\n      <td>...</td>\n      <td></td>\n      <td></td>\n      <td></td>\n      <td></td>\n      <td></td>\n      <td></td>\n      <td>die Spezialpflege, -n / Spezial-</td>\n      <td></td>\n      <td>2008</td>\n      <td></td>\n    </tr>\n    <tr>\n      <th>2098</th>\n      <td>1516347478308</td>\n      <td>Stück</td>\n      <td>[sound:sapi5js-5e67667e-968cbb08-e84fd640-b413...</td>\n      <td></td>\n      <td></td>\n      <td>das</td>\n      <td>Stücke, Stücke</td>\n      <td></td>\n      <td></td>\n      <td></td>\n      <td>...</td>\n      <td></td>\n      <td></td>\n      <td></td>\n      <td></td>\n      <td></td>\n      <td></td>\n      <td>das Stück, -e / -stück, -e</td>\n      <td></td>\n      <td>2098</td>\n      <td></td>\n    </tr>\n    <tr>\n      <th>2110</th>\n      <td>1516347478320</td>\n      <td>Süden</td>\n      <td>[sound:sapi5js-37af8ab4-b87e4a3d-bea9060b-7de5...</td>\n      <td></td>\n      <td></td>\n      <td>der</td>\n      <td>Sg.</td>\n      <td></td>\n      <td></td>\n      <td></td>\n      <td>...</td>\n      <td></td>\n      <td></td>\n      <td></td>\n      <td></td>\n      <td></td>\n      <td></td>\n      <td>der Süden/Süd/Süd (Sg.)</td>\n      <td></td>\n      <td>2110</td>\n      <td></td>\n    </tr>\n    <tr>\n      <th>2203</th>\n      <td>1516347478413</td>\n      <td>Traum</td>\n      <td>[sound:sapi5js-7d907e66-cc6b5e63-df22c62e-f1c7...</td>\n      <td></td>\n      <td></td>\n      <td>der</td>\n      <td>Träume</td>\n      <td></td>\n      <td></td>\n      <td></td>\n      <td>...</td>\n      <td></td>\n      <td></td>\n      <td></td>\n      <td></td>\n      <td></td>\n      <td></td>\n      <td>der Traum, -\"e / Traum-</td>\n      <td></td>\n      <td>2203</td>\n      <td></td>\n    </tr>\n    <tr>\n      <th>2403</th>\n      <td>1516347478613</td>\n      <td>viel</td>\n      <td>[sound:sapi5js-fbebed51-1861c53c-24311f18-0479...</td>\n      <td>viele</td>\n      <td></td>\n      <td></td>\n      <td></td>\n      <td></td>\n      <td></td>\n      <td></td>\n      <td>...</td>\n      <td></td>\n      <td></td>\n      <td></td>\n      <td></td>\n      <td></td>\n      <td></td>\n      <td>viel/viele</td>\n      <td></td>\n      <td>2403</td>\n      <td></td>\n    </tr>\n    <tr>\n      <th>2428</th>\n      <td>1516347478638</td>\n      <td>vorne</td>\n      <td>[sound:sapi5js-d574e936-39ea73c4-e980e380-46b0...</td>\n      <td>vorn</td>\n      <td></td>\n      <td></td>\n      <td></td>\n      <td></td>\n      <td></td>\n      <td></td>\n      <td>...</td>\n      <td></td>\n      <td></td>\n      <td></td>\n      <td></td>\n      <td></td>\n      <td></td>\n      <td>vorn/vorne</td>\n      <td></td>\n      <td>2428</td>\n      <td></td>\n    </tr>\n    <tr>\n      <th>2475</th>\n      <td>1516347478685</td>\n      <td>weg</td>\n      <td>[sound:sapi5js-d055a72c-f632d24b-33266f60-9a42...</td>\n      <td></td>\n      <td></td>\n      <td></td>\n      <td></td>\n      <td></td>\n      <td></td>\n      <td></td>\n      <td>...</td>\n      <td></td>\n      <td></td>\n      <td></td>\n      <td></td>\n      <td></td>\n      <td></td>\n      <td>weg/weg</td>\n      <td></td>\n      <td>2475</td>\n      <td></td>\n    </tr>\n    <tr>\n      <th>2485</th>\n      <td>1516347478695</td>\n      <td>weiter</td>\n      <td>[sound:sapi5js-36364d73-f69dfc6a-eda7fffe-9ae7...</td>\n      <td>weiter-</td>\n      <td></td>\n      <td></td>\n      <td></td>\n      <td></td>\n      <td></td>\n      <td></td>\n      <td>...</td>\n      <td></td>\n      <td></td>\n      <td></td>\n      <td></td>\n      <td></td>\n      <td></td>\n      <td>weiter/weiter-</td>\n      <td></td>\n      <td>2485</td>\n      <td></td>\n    </tr>\n    <tr>\n      <th>2494</th>\n      <td>1516347478704</td>\n      <td>wenig</td>\n      <td>[sound:sapi5js-a1be99b8-59ff2b7b-ef743543-53d1...</td>\n      <td>wenige</td>\n      <td></td>\n      <td></td>\n      <td></td>\n      <td></td>\n      <td></td>\n      <td></td>\n      <td>...</td>\n      <td></td>\n      <td></td>\n      <td></td>\n      <td></td>\n      <td></td>\n      <td></td>\n      <td>wenig/wenige</td>\n      <td></td>\n      <td>2494</td>\n      <td></td>\n    </tr>\n    <tr>\n      <th>2515</th>\n      <td>1516347478725</td>\n      <td>wieder</td>\n      <td>[sound:sapi5js-4abc88a8-bd41d7c1-b7071791-9bfa...</td>\n      <td>wieder-</td>\n      <td></td>\n      <td></td>\n      <td></td>\n      <td></td>\n      <td></td>\n      <td></td>\n      <td>...</td>\n      <td></td>\n      <td></td>\n      <td></td>\n      <td></td>\n      <td></td>\n      <td></td>\n      <td>wieder/wieder-</td>\n      <td></td>\n      <td>2515</td>\n      <td></td>\n    </tr>\n    <tr>\n      <th>2520</th>\n      <td>1516347478730</td>\n      <td>wie viel</td>\n      <td>[sound:sapi5js-e92cb95f-73fafc0b-ed381c5b-63e4...</td>\n      <td>wie viele</td>\n      <td></td>\n      <td></td>\n      <td></td>\n      <td></td>\n      <td></td>\n      <td></td>\n      <td>...</td>\n      <td></td>\n      <td></td>\n      <td></td>\n      <td></td>\n      <td></td>\n      <td></td>\n      <td>wie viel/wie viele</td>\n      <td></td>\n      <td>2520</td>\n      <td></td>\n    </tr>\n    <tr>\n      <th>2548</th>\n      <td>1516347478758</td>\n      <td>Wort</td>\n      <td>[sound:sapi5js-ea7738ef-5aab3760-6b2564a8-2ded...</td>\n      <td></td>\n      <td></td>\n      <td>das, das</td>\n      <td>Worte, Wörter</td>\n      <td></td>\n      <td></td>\n      <td></td>\n      <td>...</td>\n      <td></td>\n      <td></td>\n      <td></td>\n      <td></td>\n      <td></td>\n      <td></td>\n      <td>das Wort, -\"er / das Wort, -e</td>\n      <td></td>\n      <td>2548</td>\n      <td></td>\n    </tr>\n    <tr>\n      <th>2564</th>\n      <td>1516347478774</td>\n      <td>Zahnpasta</td>\n      <td>[sound:sapi5js-663a7aaa-73d341c5-4ded8706-e525...</td>\n      <td>Zahncreme</td>\n      <td></td>\n      <td>die, die</td>\n      <td>Zahnpastaen, Zahncremen</td>\n      <td></td>\n      <td></td>\n      <td></td>\n      <td>...</td>\n      <td></td>\n      <td></td>\n      <td></td>\n      <td></td>\n      <td></td>\n      <td></td>\n      <td>die Zahnpasta / die Zahncreme, -en / -n</td>\n      <td></td>\n      <td>2564</td>\n      <td></td>\n    </tr>\n    <tr>\n      <th>2581</th>\n      <td>1516347478791</td>\n      <td>Zeug</td>\n      <td>[sound:sapi5js-4e52e756-235e7c6d-08e5f28d-7cd4...</td>\n      <td></td>\n      <td></td>\n      <td>das</td>\n      <td>Sg.</td>\n      <td></td>\n      <td></td>\n      <td></td>\n      <td>...</td>\n      <td></td>\n      <td></td>\n      <td></td>\n      <td></td>\n      <td></td>\n      <td></td>\n      <td>das Zeug (Sg.) / -zeug</td>\n      <td></td>\n      <td>2581</td>\n      <td></td>\n    </tr>\n    <tr>\n      <th>2590</th>\n      <td>1516347478800</td>\n      <td>zirca</td>\n      <td>[sound:sapi5js-27464218-3fae48e0-dfcd4450-d747...</td>\n      <td>zirka/circa</td>\n      <td></td>\n      <td></td>\n      <td></td>\n      <td></td>\n      <td></td>\n      <td></td>\n      <td>...</td>\n      <td></td>\n      <td></td>\n      <td></td>\n      <td></td>\n      <td></td>\n      <td></td>\n      <td>zirka/circa</td>\n      <td></td>\n      <td>2590</td>\n      <td></td>\n    </tr>\n    <tr>\n      <th>2612</th>\n      <td>1516347478822</td>\n      <td>zurück</td>\n      <td>[sound:sapi5js-a25ad515-254de6ae-d4c35a46-a027...</td>\n      <td>zurück-</td>\n      <td></td>\n      <td></td>\n      <td></td>\n      <td></td>\n      <td></td>\n      <td></td>\n      <td>...</td>\n      <td></td>\n      <td></td>\n      <td></td>\n      <td></td>\n      <td></td>\n      <td></td>\n      <td>zurück/zurück-</td>\n      <td></td>\n      <td>2612</td>\n      <td></td>\n    </tr>\n    <tr>\n      <th>2614</th>\n      <td>1516347478824</td>\n      <td>zusammen</td>\n      <td>[sound:sapi5js-554d8884-04be6431-bd7bf129-21ea...</td>\n      <td>zusammen-</td>\n      <td></td>\n      <td></td>\n      <td></td>\n      <td></td>\n      <td></td>\n      <td></td>\n      <td>...</td>\n      <td></td>\n      <td></td>\n      <td></td>\n      <td></td>\n      <td></td>\n      <td></td>\n      <td>zusammen/zusammen-</td>\n      <td></td>\n      <td>2614</td>\n      <td></td>\n    </tr>\n  </tbody>\n</table>\n<p>45 rows × 73 columns</p>\n</div>"
     },
     "execution_count": 18,
     "metadata": {},
     "output_type": "execute_result"
    }
   ],
   "source": [
    "maskSpecialNoun = maskNotVerb & maskHasAlternative & ~maskNotNoun\n",
    "\n",
    "\n",
    "b1Alt: DF = b1.loc[maskSpecialNoun, ['de_word', 'de_word_alt', 'de_word_article','de_word_plural', 'fullgerman']].copy()\n",
    "type1 = b1Alt.fullgerman.str.contains(r'^(d(er|as|ie) +\\w+[^\\/\\n\\r]+(\\/|(?=$)) *)+$') #python no atomic groups :( ^(?>d(er|as|ie) +\\w+[^\\/\\n\\r]+(\\/|(?=$)) *)+$\n",
    "b1type1 = b1Alt[type1].copy()\n",
    "type2 = b1Alt.fullgerman.str.contains(r'\\/[^\\/\\n]+,[^\\/\\n]+\\/')\n",
    "b1type2 = b1Alt[type2].copy()\n",
    "b1type2.loc[:,'singular'] = b1type2.fullgerman.str.lower().str.split(r',(?=[^\\/\\n]+\\/)')\n",
    "b1type2.loc[:,'ending'] = [list(map(str.strip, l[1].strip().split('/'))) for l in b1type2.singular]\n",
    "b1type2.singular = [list(map(str.strip, l[0].strip().split('/'))) for l in b1type2.singular]\n",
    "\n",
    "b1type1.loc[:,'singular'] = b1type1.fullgerman.str.lower().str.split('/')\n",
    "b1type1.singular =[[s.strip().split(',') for s in l] for l in b1type1.singular]\n",
    "b1type1.loc[:,'ending'] = [[s[1].strip() if len(s)>1 else None for s in l] for l in b1type1.singular]\n",
    "b1type1.singular = [[s[0].strip() for s in l] for l in b1type1.singular]\n",
    "\n",
    "b1AltNoun = pandas.concat([b1type1, b1type2])\n",
    "b1AltNoun.loc[:,'article'] = [[s[:3] if s.startswith('der') or s.startswith('die') or s.startswith('das') else None for s in l] for l in b1AltNoun.singular]\n",
    "b1AltNoun.singular =[[re.sub(r'^d(er|as|ie) +', '', s) for s in l] for l in b1AltNoun.singular]\n",
    "\n",
    "\n",
    "b1AltNoun.loc[:,'has_umlaut'] = [['\"' in s if s is not None else False for s in l] for l in b1AltNoun.ending]\n",
    "b1AltNoun.ending = [[s.replace('\"','').replace('-','') if s is not None else None for s in l] for l in b1AltNoun.ending]\n",
    "b1AltNoun.loc[:,'first_aou'] = [[max(s.rfind('o'),\n",
    "                                     s.rfind('a'),\n",
    "                                     (lambda au, u: au if au+1==u else max(au, u))(\n",
    "                                         s.rfind('au'),\n",
    "                                         s.rfind('u')))\n",
    "                                 for s in l] for l in b1AltNoun.singular]\n",
    "\n",
    "b1AltNoun.loc[:,'plural'] = [set([None if ending is None else\n",
    "                              ((singular[:first_aou] +\n",
    "                                singular[first_aou].replace('a','ä')\n",
    "                                .replace('o','ö')\n",
    "                                .replace('u','ü') +\n",
    "                                singular[first_aou+1:]\n",
    "                                if has_umlaut else singular) + ending).title() for (singular, ending, has_umlaut, first_aou) in zip(*s)]) for s in b1AltNoun.loc[:,['singular','ending','has_umlaut','first_aou']].values]\n",
    "\n",
    "#b1AltNoun.singular =[filter(word.lower(),set(s)) for (s, word) in b1AltNoun.loc[:,['singular','de_word']].values]\n",
    "b1AltNoun.singular =[set(s) for s in b1AltNoun.singular]\n",
    "b1AltNoun.singular = [singleton(s, s.discard, word.lower()) for (word, s) in b1AltNoun.loc[:, ['de_word', 'singular']].values]\n",
    "b1AltNoun.singular = [[s.title() for s in l] for l in b1AltNoun.singular]\n",
    "\n",
    "#b1AltNoun.apply(singleton(s, s.discard, word.lower()))\n",
    "b1AltNoun.de_word_plural = b1AltNoun.plural.apply(lambda s: \", \".join(filter(None,s)))\n",
    "b1AltNoun.de_word_article = b1AltNoun.article.apply(lambda s: \", \".join(filter(None,s)))\n",
    "b1AltNoun.de_word_alt = b1AltNoun.singular.apply(lambda s: \", \".join(filter(None,s)))\n",
    "\n",
    "\n",
    "b1.loc[maskSpecialNoun & (type1 | type2), ['de_word_alt', 'de_word_article','de_word_plural']] = b1AltNoun.loc[:, ['de_word_alt', 'de_word_article','de_word_plural']]\n",
    "b1[maskNotVerb & maskHasAlternative]"
   ],
   "metadata": {
    "collapsed": false,
    "pycharm": {
     "name": "#%%\n"
    }
   }
  },
  {
   "cell_type": "code",
   "execution_count": 19,
   "outputs": [
    {
     "data": {
      "text/plain": "             noteid     de_word  \\\n2     1516347476212   Abbildung   \n4     1516347476214      Abfall   \n6     1516347476216       Abgas   \n12    1516347476222      Abitur   \n17    1516347476227  Abonnement   \n...             ...         ...   \n2621  1516347478831     Zustand   \n2623  1516347478833  Zustimmung   \n2625  1516347478835  Zuwanderer   \n2627  1516347478837       Zweck   \n2629  1516347478839     Zwiebel   \n\n                                          de_word_audio de_word_alt  \\\n2     [sound:sapi5js-3075b7a4-967483d5-18ecf061-736c...               \n4     [sound:sapi5js-3a56fed8-b6c53645-a125b433-6c6d...               \n6     [sound:sapi5js-8bbe9376-08f6cc1a-06f31bcf-6f4b...               \n12    [sound:sapi5js-bc5772bd-73dba63f-08fba3d3-ad66...               \n17    [sound:sapi5js-1037e91b-74cb1731-c4ca58ca-fca4...               \n...                                                 ...         ...   \n2621  [sound:sapi5js-93a77598-a21dbf74-e236ef12-2f19...               \n2623  [sound:sapi5js-eb2825a6-e94e85b2-7f1f486a-c537...               \n2625  [sound:sapi5js-63026f71-c5fa0ab4-d3b4403c-b5f6...               \n2627  [sound:sapi5js-d3569cc1-6a4314a3-200cfdcf-6dbe...               \n2629  [sound:sapi5js-db6a093a-e0315e6c-f91f24b3-b5af...               \n\n     de_word_note de_word_article de_word_plural de_word_plural_audio  \\\n2                             die    Abbildungen                        \n4                             der        Abfälle                        \n6                             das         Abgase                        \n12            Sg.             das                                       \n17                            das    Abonnements                        \n...           ...             ...            ...                  ...   \n2621                          der       Zustände                        \n2623                          die   Zustimmungen                        \n2625                          der     Zuwanderer                        \n2627                          der         Zwecke                        \n2629                          die       Zwiebeln                        \n\n     de_word_inflected de_word_inflected_audio  ... de_sen_9_note en_word_10  \\\n2                                               ...                            \n4                                               ...                            \n6                                               ...                            \n12                                              ...                            \n17                                              ...                            \n...                ...                     ...  ...           ...        ...   \n2621                                            ...                            \n2623                                            ...                            \n2625                                            ...                            \n2627                                            ...                            \n2629                                            ...                            \n\n     en_word_10_note de_sen_10 de_sen_10_audio en_sen_10           fullgerman  \\\n2                                                          die Abbildung, -en   \n4                                                             der Abfall, -\"e   \n6                                                               das Abgas, -e   \n12                                                           das Abitur (Sg.)   \n17                                                         das Abonnement, -s   \n...              ...       ...             ...       ...                  ...   \n2621                                                         der Zustand, -\"e   \n2623                                                      die Zustimmung, -en   \n2625                                                        der Zuwanderer, -   \n2627                                                            der Zweck, -e   \n2629                                                          die Zwiebel, -n   \n\n     part_of_speech level tags  \n2                       3       \n4                       5       \n6                       7       \n12                     13       \n17                     18       \n...             ...   ...  ...  \n2621                 2621       \n2623                 2623       \n2625                 2625       \n2627                 2627       \n2629                 2629       \n\n[1353 rows x 73 columns]",
      "text/html": "<div>\n<style scoped>\n    .dataframe tbody tr th:only-of-type {\n        vertical-align: middle;\n    }\n\n    .dataframe tbody tr th {\n        vertical-align: top;\n    }\n\n    .dataframe thead th {\n        text-align: right;\n    }\n</style>\n<table border=\"1\" class=\"dataframe\">\n  <thead>\n    <tr style=\"text-align: right;\">\n      <th></th>\n      <th>noteid</th>\n      <th>de_word</th>\n      <th>de_word_audio</th>\n      <th>de_word_alt</th>\n      <th>de_word_note</th>\n      <th>de_word_article</th>\n      <th>de_word_plural</th>\n      <th>de_word_plural_audio</th>\n      <th>de_word_inflected</th>\n      <th>de_word_inflected_audio</th>\n      <th>...</th>\n      <th>de_sen_9_note</th>\n      <th>en_word_10</th>\n      <th>en_word_10_note</th>\n      <th>de_sen_10</th>\n      <th>de_sen_10_audio</th>\n      <th>en_sen_10</th>\n      <th>fullgerman</th>\n      <th>part_of_speech</th>\n      <th>level</th>\n      <th>tags</th>\n    </tr>\n  </thead>\n  <tbody>\n    <tr>\n      <th>2</th>\n      <td>1516347476212</td>\n      <td>Abbildung</td>\n      <td>[sound:sapi5js-3075b7a4-967483d5-18ecf061-736c...</td>\n      <td></td>\n      <td></td>\n      <td>die</td>\n      <td>Abbildungen</td>\n      <td></td>\n      <td></td>\n      <td></td>\n      <td>...</td>\n      <td></td>\n      <td></td>\n      <td></td>\n      <td></td>\n      <td></td>\n      <td></td>\n      <td>die Abbildung, -en</td>\n      <td></td>\n      <td>3</td>\n      <td></td>\n    </tr>\n    <tr>\n      <th>4</th>\n      <td>1516347476214</td>\n      <td>Abfall</td>\n      <td>[sound:sapi5js-3a56fed8-b6c53645-a125b433-6c6d...</td>\n      <td></td>\n      <td></td>\n      <td>der</td>\n      <td>Abfälle</td>\n      <td></td>\n      <td></td>\n      <td></td>\n      <td>...</td>\n      <td></td>\n      <td></td>\n      <td></td>\n      <td></td>\n      <td></td>\n      <td></td>\n      <td>der Abfall, -\"e</td>\n      <td></td>\n      <td>5</td>\n      <td></td>\n    </tr>\n    <tr>\n      <th>6</th>\n      <td>1516347476216</td>\n      <td>Abgas</td>\n      <td>[sound:sapi5js-8bbe9376-08f6cc1a-06f31bcf-6f4b...</td>\n      <td></td>\n      <td></td>\n      <td>das</td>\n      <td>Abgase</td>\n      <td></td>\n      <td></td>\n      <td></td>\n      <td>...</td>\n      <td></td>\n      <td></td>\n      <td></td>\n      <td></td>\n      <td></td>\n      <td></td>\n      <td>das Abgas, -e</td>\n      <td></td>\n      <td>7</td>\n      <td></td>\n    </tr>\n    <tr>\n      <th>12</th>\n      <td>1516347476222</td>\n      <td>Abitur</td>\n      <td>[sound:sapi5js-bc5772bd-73dba63f-08fba3d3-ad66...</td>\n      <td></td>\n      <td>Sg.</td>\n      <td>das</td>\n      <td></td>\n      <td></td>\n      <td></td>\n      <td></td>\n      <td>...</td>\n      <td></td>\n      <td></td>\n      <td></td>\n      <td></td>\n      <td></td>\n      <td></td>\n      <td>das Abitur (Sg.)</td>\n      <td></td>\n      <td>13</td>\n      <td></td>\n    </tr>\n    <tr>\n      <th>17</th>\n      <td>1516347476227</td>\n      <td>Abonnement</td>\n      <td>[sound:sapi5js-1037e91b-74cb1731-c4ca58ca-fca4...</td>\n      <td></td>\n      <td></td>\n      <td>das</td>\n      <td>Abonnements</td>\n      <td></td>\n      <td></td>\n      <td></td>\n      <td>...</td>\n      <td></td>\n      <td></td>\n      <td></td>\n      <td></td>\n      <td></td>\n      <td></td>\n      <td>das Abonnement, -s</td>\n      <td></td>\n      <td>18</td>\n      <td></td>\n    </tr>\n    <tr>\n      <th>...</th>\n      <td>...</td>\n      <td>...</td>\n      <td>...</td>\n      <td>...</td>\n      <td>...</td>\n      <td>...</td>\n      <td>...</td>\n      <td>...</td>\n      <td>...</td>\n      <td>...</td>\n      <td>...</td>\n      <td>...</td>\n      <td>...</td>\n      <td>...</td>\n      <td>...</td>\n      <td>...</td>\n      <td>...</td>\n      <td>...</td>\n      <td>...</td>\n      <td>...</td>\n      <td>...</td>\n    </tr>\n    <tr>\n      <th>2621</th>\n      <td>1516347478831</td>\n      <td>Zustand</td>\n      <td>[sound:sapi5js-93a77598-a21dbf74-e236ef12-2f19...</td>\n      <td></td>\n      <td></td>\n      <td>der</td>\n      <td>Zustände</td>\n      <td></td>\n      <td></td>\n      <td></td>\n      <td>...</td>\n      <td></td>\n      <td></td>\n      <td></td>\n      <td></td>\n      <td></td>\n      <td></td>\n      <td>der Zustand, -\"e</td>\n      <td></td>\n      <td>2621</td>\n      <td></td>\n    </tr>\n    <tr>\n      <th>2623</th>\n      <td>1516347478833</td>\n      <td>Zustimmung</td>\n      <td>[sound:sapi5js-eb2825a6-e94e85b2-7f1f486a-c537...</td>\n      <td></td>\n      <td></td>\n      <td>die</td>\n      <td>Zustimmungen</td>\n      <td></td>\n      <td></td>\n      <td></td>\n      <td>...</td>\n      <td></td>\n      <td></td>\n      <td></td>\n      <td></td>\n      <td></td>\n      <td></td>\n      <td>die Zustimmung, -en</td>\n      <td></td>\n      <td>2623</td>\n      <td></td>\n    </tr>\n    <tr>\n      <th>2625</th>\n      <td>1516347478835</td>\n      <td>Zuwanderer</td>\n      <td>[sound:sapi5js-63026f71-c5fa0ab4-d3b4403c-b5f6...</td>\n      <td></td>\n      <td></td>\n      <td>der</td>\n      <td>Zuwanderer</td>\n      <td></td>\n      <td></td>\n      <td></td>\n      <td>...</td>\n      <td></td>\n      <td></td>\n      <td></td>\n      <td></td>\n      <td></td>\n      <td></td>\n      <td>der Zuwanderer, -</td>\n      <td></td>\n      <td>2625</td>\n      <td></td>\n    </tr>\n    <tr>\n      <th>2627</th>\n      <td>1516347478837</td>\n      <td>Zweck</td>\n      <td>[sound:sapi5js-d3569cc1-6a4314a3-200cfdcf-6dbe...</td>\n      <td></td>\n      <td></td>\n      <td>der</td>\n      <td>Zwecke</td>\n      <td></td>\n      <td></td>\n      <td></td>\n      <td>...</td>\n      <td></td>\n      <td></td>\n      <td></td>\n      <td></td>\n      <td></td>\n      <td></td>\n      <td>der Zweck, -e</td>\n      <td></td>\n      <td>2627</td>\n      <td></td>\n    </tr>\n    <tr>\n      <th>2629</th>\n      <td>1516347478839</td>\n      <td>Zwiebel</td>\n      <td>[sound:sapi5js-db6a093a-e0315e6c-f91f24b3-b5af...</td>\n      <td></td>\n      <td></td>\n      <td>die</td>\n      <td>Zwiebeln</td>\n      <td></td>\n      <td></td>\n      <td></td>\n      <td>...</td>\n      <td></td>\n      <td></td>\n      <td></td>\n      <td></td>\n      <td></td>\n      <td></td>\n      <td>die Zwiebel, -n</td>\n      <td></td>\n      <td>2629</td>\n      <td></td>\n    </tr>\n  </tbody>\n</table>\n<p>1353 rows × 73 columns</p>\n</div>"
     },
     "execution_count": 19,
     "metadata": {},
     "output_type": "execute_result"
    }
   ],
   "source": [
    "def fixSingularMark(deck):\n",
    "    mask = deck.de_word_plural == \"Sg.\"\n",
    "    deck.de_word_plural[mask] = \"\"\n",
    "    deck.de_word_note[mask] = \"Sg.\"\n",
    "\n",
    "\n",
    "fixSingularMark(a1)\n",
    "fixSingularMark(a2)\n",
    "fixSingularMark(b1)\n",
    "\n",
    "b1[~maskNotNoun]"
   ],
   "metadata": {
    "collapsed": false,
    "pycharm": {
     "name": "#%%\n"
    }
   }
  },
  {
   "cell_type": "code",
   "execution_count": 20,
   "outputs": [],
   "source": [
    "def fixPartOfSpeech(deck):\n",
    "    maskVerb = deck.de_word_inflected.str.strip().str.len() > 0\n",
    "    maskNoun = deck.de_word_plural.str.strip().str.len() > 0\n",
    "    maskMissingPoS = deck.part_of_speech.str.strip().str.len() == 0\n",
    "    maskPoSInflected = deck.part_of_speech.str.strip().str.lower() == \"inflected\"\n",
    "    deck.part_of_speech[maskVerb & maskMissingPoS] = \"verb\" #inflected might be adj so cannot set to verb\n",
    "    deck.part_of_speech[maskNoun & (maskMissingPoS|maskPoSInflected)] = \"noun\"\n",
    "\n",
    "\n",
    "fixPartOfSpeech(a1)\n",
    "fixPartOfSpeech(a2)\n",
    "fixPartOfSpeech(b1)"
   ],
   "metadata": {
    "collapsed": false,
    "pycharm": {
     "name": "#%%\n"
    }
   }
  },
  {
   "cell_type": "code",
   "execution_count": 21,
   "outputs": [
    {
     "data": {
      "text/plain": "{'',\n 'ansage',\n 'anschluss',\n 'antwort',\n 'antworten',\n 'anzeige',\n 'anziehen',\n 'apartment',\n 'apfel',\n 'appetit',\n 'arbeit',\n 'arbeiten',\n 'arbeitslos',\n 'arbeitsplatz',\n 'arm',\n 'arzt',\n 'auch',\n 'auf',\n 'auf sein',\n 'aufgabe',\n 'aufhören',\n 'aufstehen',\n 'aufzug',\n 'auge',\n 'aus',\n 'aus sein',\n 'ausflug',\n 'ausfüllen',\n 'ausgang',\n 'auskunft',\n 'ausland',\n 'ausländer',\n 'ausländisch',\n 'ausmachen',\n 'aussehen',\n 'ausweis',\n 'ausziehen',\n 'auto',\n 'autobahn',\n 'automat',\n 'automatisch',\n 'baby',\n 'bad',\n 'baden',\n 'bahn',\n 'bahnhof',\n 'bahnsteig',\n 'bald',\n 'balkon',\n 'banane',\n 'bank',\n 'bar',\n 'bauch',\n 'baum',\n 'beamte',\n 'bedeuten',\n 'beginnen',\n 'bei',\n 'beide',\n 'bein',\n 'beispiel',\n 'bekannt',\n 'bekannte',\n 'bekommen',\n 'benutzen',\n 'beruf',\n 'besichtigen',\n 'bestellen',\n 'besuchen',\n 'bett',\n 'bezahlen',\n 'bier',\n 'bild',\n 'billig',\n 'birne',\n 'bis',\n 'bitte',\n 'bitten',\n 'bitter',\n 'blau',\n 'bleiben',\n 'bleistift',\n 'blick',\n 'blume',\n 'bogen',\n 'brauchen',\n 'braun',\n 'breit',\n 'brief',\n 'briefmarke',\n 'bringen',\n 'brot',\n 'bruder',\n 'brötchen',\n 'buch',\n 'buchstabe',\n 'buchstabieren',\n 'bus',\n 'butter',\n 'bäckerei',\n 'böse',\n 'café',\n 'cd',\n 'chef',\n 'circa',\n 'computer',\n 'da',\n 'dame',\n 'daneben',\n 'dank',\n 'danke',\n 'danken',\n 'dann',\n 'datum',\n 'dauern',\n 'denn',\n 'dies',\n 'doktor',\n 'dorf',\n 'dort',\n 'dorthin',\n 'draußen',\n 'drucken',\n 'drucker',\n 'drücken',\n 'durch',\n 'durchsage',\n 'durst',\n 'dusche',\n 'duschen',\n 'dürfen',\n 'ecke',\n 'ehefrau',\n 'ehemann',\n 'ei',\n 'eilig',\n 'ein',\n 'einfach',\n 'eingang',\n 'einkaufen',\n 'einladen',\n 'einladung',\n 'einmal',\n 'einsteigen',\n 'eintritt',\n 'eltern',\n 'email',\n 'empfehlen',\n 'ende',\n 'enden',\n 'entschuldigen',\n 'entschuldigung',\n 'ergebnis',\n 'erklären',\n 'erlauben',\n 'erwachsene',\n 'erzählen',\n 'es',\n 'essen',\n 'fahren',\n 'fahrer',\n 'fahrkarte',\n 'fahrrad',\n 'falsch',\n 'familie',\n 'familienname',\n 'familienstand',\n 'farbe',\n 'fax',\n 'fehlen',\n 'fehler',\n 'feierabend',\n 'feiern',\n 'feiertag',\n 'fernsehen',\n 'fertig',\n 'feuer',\n 'fieber',\n 'film',\n 'finden',\n 'firma',\n 'fisch',\n 'flasche',\n 'fleisch',\n 'fliegen',\n 'flughafen',\n 'flugzeug',\n 'formular',\n 'foto',\n 'frage',\n 'fragen',\n 'frau',\n 'frei',\n 'freizeit',\n 'fremd',\n 'freund',\n 'früher',\n 'frühstück',\n 'frühstücken',\n 'fuß',\n 'fußball',\n 'führung',\n 'für',\n 'garten',\n 'gast',\n 'geben',\n 'geburtstag',\n 'gefallen',\n 'gegen',\n 'gehen',\n 'gehören',\n 'gelb',\n 'geld',\n 'gemüse',\n 'gepäck',\n 'gerade',\n 'geradeaus',\n 'gern',\n 'gerne',\n 'geschenk',\n 'geschwister',\n 'geschäft',\n 'gespräch',\n 'gestern',\n 'getränk',\n 'gewicht',\n 'gewinnen',\n 'glas',\n 'glauben',\n 'gleich',\n 'gleis',\n 'glück',\n 'glücklich',\n 'glückwunsch',\n 'gratulieren',\n 'grau',\n 'grillen',\n 'groß',\n 'großeltern',\n 'gruppe',\n 'gruß',\n 'größe',\n 'grün',\n 'gut',\n 'gültig',\n 'günstig',\n 'haar',\n 'haben',\n 'halbpension',\n 'halle',\n 'hallo',\n 'halten',\n 'haltestelle',\n 'hand',\n 'handy',\n 'haus',\n 'hausaufgabe',\n 'hausfrau',\n 'hausmann',\n 'heimat',\n 'heiraten',\n 'heißen',\n 'helfen',\n 'hell',\n 'herd',\n 'herr',\n 'herzlich',\n 'heute',\n 'hier',\n 'hilfe',\n 'hinten',\n 'hobby',\n 'hoch',\n 'hochzeit',\n 'holen',\n 'hotel',\n 'hund',\n 'hunger',\n 'hähnchen',\n 'hören',\n 'immer',\n 'in',\n 'information',\n 'international',\n 'internet',\n 'ja',\n 'jacke',\n 'jetzt',\n 'job',\n 'jugendliche',\n 'jung',\n 'junge',\n 'kaffee',\n 'kaputt',\n 'karte',\n 'kartoffel',\n 'kasse',\n 'kaufen',\n 'kein',\n 'kennen',\n 'kennenlernen',\n 'kind',\n 'kindergarten',\n 'kino',\n 'kiosk',\n 'klar',\n 'klasse',\n 'kleidung',\n 'klein',\n 'kochen',\n 'koffer',\n 'kollege',\n 'kommen',\n 'konto',\n 'kopf',\n 'kosten',\n 'krank',\n 'kreditkarte',\n 'kriegen',\n 'kuchen',\n 'kugelschreiber',\n 'kulturell',\n 'kunde',\n 'kurs',\n 'kurz',\n 'können',\n 'küche',\n 'kühlschrank',\n 'lachen',\n 'laden',\n 'land',\n 'lang',\n 'lange',\n 'langsam',\n 'laufen',\n 'laut',\n 'leben',\n 'lebensmittel',\n 'ledig',\n 'legen',\n 'lehrer',\n 'leicht',\n 'leider',\n 'leise',\n 'lernen',\n 'lesen',\n 'letzt',\n 'leute',\n 'licht',\n 'lieb',\n 'lieben',\n 'lieblings',\n 'lied',\n 'liegen',\n 'links',\n 'lkw',\n 'lokal',\n 'lustig',\n 'lösung',\n 'machen',\n 'man',\n 'mann',\n 'maschine',\n 'meer',\n 'mensch',\n 'miete',\n 'mieten',\n 'milch',\n 'mit',\n 'mitte',\n 'moment',\n 'mund',\n 'mutter',\n 'mädchen',\n 'männlich',\n 'möbel',\n 'mögen',\n 'möglich',\n 'müde',\n 'müssen',\n 'nach',\n 'name',\n 'nehmen',\n 'nein',\n 'neu',\n 'nicht',\n 'nichts',\n 'nie',\n 'noch',\n 'norden',\n 'normal',\n 'nummer',\n 'nur',\n 'nächst',\n 'oben',\n 'obst',\n 'oder',\n 'oft',\n 'ohne',\n 'oma',\n 'opa',\n 'ordnung',\n 'ort',\n 'osten',\n 'papier',\n 'partner',\n 'party',\n 'pass',\n 'pause',\n 'plan',\n 'platz',\n 'polizei',\n 'post',\n 'postleitzahl',\n 'praktikum',\n 'praxis',\n 'preis',\n 'problem',\n 'prospekt',\n 'prüfung',\n 'pünktlich',\n 'rad fahren',\n 'rauchen',\n 'raum',\n 'rechnung',\n 'rechts',\n 'regen',\n 'regnen',\n 'reis',\n 'reise',\n 'reisebüro',\n 'reisen',\n 'reparatur',\n 'reparieren',\n 'restaurant',\n 'rezeption',\n 'richtig',\n 'riechen',\n 'rot',\n 'ruhig',\n 'saft',\n 'sagen',\n 'salat',\n 'salz',\n 'satz',\n 'sbahn',\n 'schalter',\n 'scheinen',\n 'schicken',\n 'schild',\n 'schinken',\n 'schlafen',\n 'schlecht',\n 'schließen',\n 'schluss',\n 'schlüssel',\n 'schmecken',\n 'schnell',\n 'schon',\n 'schrank',\n 'schreiben',\n 'schuh',\n 'schule',\n 'schwarz',\n 'schwer',\n 'schwester',\n 'schwimmbad',\n 'schwimmen',\n 'schön',\n 'schüler',\n 'see',\n 'sehen',\n 'sehenswürdigkeit',\n 'sehr',\n 'sein',\n 'seit',\n 'selbstständig',\n 'sitzen',\n 'so',\n 'sofa',\n 'sofort',\n 'sohn',\n 'sollen',\n 'sonne',\n 'speisekarte',\n 'spielen',\n 'sport',\n 'sprache',\n 'sprechen',\n 'spät',\n 'stadt',\n 'stehen',\n 'stelle',\n 'stellen',\n 'stock',\n 'straße',\n 'straßenbahn',\n 'student',\n 'studieren',\n 'studium',\n 'stunde',\n 'suchen',\n 'süden',\n 'tanzen',\n 'tasche',\n 'taxi',\n 'tee',\n 'teil',\n 'telefon',\n 'telefonieren',\n 'termin',\n 'test',\n 'teuer',\n 'text',\n 'thema',\n 'ticket',\n 'tisch',\n 'tochter',\n 'toilette',\n 'tomate',\n 'tot',\n 'treffen',\n 'treppe',\n 'trinken',\n 'tun',\n 'uhr',\n 'um',\n 'umziehen',\n 'und',\n 'unten',\n 'unter',\n 'unterricht',\n 'unterschreiben',\n 'unterschrift',\n 'urlaub',\n 'vater',\n 'verdienen',\n 'verein',\n 'verheiratet',\n 'verkaufen',\n 'verkäufer',\n 'vermieten',\n 'vermieter',\n 'verstehen',\n 'verwandte',\n 'viel',\n 'vielleicht',\n 'von',\n 'vor',\n 'vorname',\n 'vorsicht',\n 'vorstellen',\n 'vorwahl',\n 'wandern',\n 'wann',\n 'warten',\n 'warum',\n 'was',\n 'was für ein',\n 'waschen',\n 'wasser',\n 'weh tun',\n 'weiblich',\n 'wein',\n 'weit',\n 'weiter',\n 'weiß',\n 'welt',\n 'wenig',\n 'wer',\n 'werden',\n 'westen',\n 'wetter',\n 'wichtig',\n 'wie',\n 'wie viel',\n 'wiederholen',\n 'willkommen',\n 'wind',\n 'wissen',\n 'wo',\n 'woher',\n 'wohin',\n 'wohnen',\n 'wohnung',\n 'wollen',\n 'wort',\n 'wunderbar',\n 'wörterbuch',\n 'zahlen',\n 'zeit',\n 'zeitung',\n 'zigarette',\n 'zimmer',\n 'zoll',\n 'zu',\n 'zu sein',\n 'zum beispiel',\n 'zurzeit',\n 'zurück',\n 'zusammen',\n 'zwischen',\n 'öffnen',\n 'öl',\n 'über',\n 'übernachten',\n 'überweisen'}"
     },
     "execution_count": 21,
     "metadata": {},
     "output_type": "execute_result"
    }
   ],
   "source": [
    "def GenVocSet(deck):\n",
    "    vocab = pandas.concat([deck.de_word, deck.de_word_alt])\n",
    "    vocab = vocab.str.lower().str.replace(\"-|\\(sich\\) +\", '', regex=True)\n",
    "    mask = vocab.str.contains(\"/\")\n",
    "    vocab[mask] = vocab[mask].str.split(\"/\")\n",
    "    vocab = pandas.Series(np.hstack(vocab))\n",
    "    vocab = vocab.str.replace(\"^([^\\(]*)\\(([^\\)]+)\\)(.*)$\", r'\\1\\3/\\1\\2\\3', regex=True).str.split(\"/\")\n",
    "    return set(np.hstack(vocab))\n",
    "\n",
    "a1Vocab = GenVocSet(a1)\n",
    "a2Vocab = GenVocSet(a2)\n",
    "b1Vocab = GenVocSet(b1)\n",
    "(set(a1Vocab) & set(b1Vocab))"
   ],
   "metadata": {
    "collapsed": false,
    "pycharm": {
     "name": "#%%\n"
    }
   }
  },
  {
   "cell_type": "code",
   "execution_count": 22,
   "outputs": [],
   "source": [
    "def markDup(deck, others: dict[str, set[str]]):\n",
    "    for label, s in others.items():\n",
    "        mask = np.vectorize(s.__contains__)(deck.de_word.str.lower())\n",
    "        deck.tags[mask] += \" \" + label\n",
    "\n",
    "\n",
    "markDup(a2, {'a1': a1Vocab})\n",
    "markDup(b1, {'a1': a1Vocab, 'a2': a2Vocab})\n",
    "\n"
   ],
   "metadata": {
    "collapsed": false,
    "pycharm": {
     "name": "#%%\n"
    }
   }
  },
  {
   "cell_type": "code",
   "execution_count": 22,
   "outputs": [],
   "source": [],
   "metadata": {
    "collapsed": false,
    "pycharm": {
     "name": "#%%\n"
    }
   }
  },
  {
   "cell_type": "code",
   "execution_count": 23,
   "outputs": [],
   "source": [
    "a1.to_csv(\"./data/DE_ Goethe Institute A1 Wordlist by siratiOut.csv\", header=False, index=False, encoding='utf8')\n",
    "a2.to_csv(\"./data/DE_ Goethe Institute A2 Wordlist by siratiOut.csv\", header=False, index=False, encoding='utf8')\n",
    "b1.to_csv(\"./data/DE_ Goethe Institute B1 Wordlist by siratiOut.csv\", header=False, index=False, encoding='utf8')"
   ],
   "metadata": {
    "collapsed": false,
    "pycharm": {
     "name": "#%%\n"
    }
   }
  },
  {
   "cell_type": "code",
   "execution_count": null,
   "outputs": [],
   "source": [],
   "metadata": {
    "collapsed": false,
    "pycharm": {
     "name": "#%%\n"
    }
   }
  }
 ],
 "metadata": {
  "kernelspec": {
   "display_name": "Python 3",
   "language": "python",
   "name": "python3"
  },
  "language_info": {
   "codemirror_mode": {
    "name": "ipython",
    "version": 2
   },
   "file_extension": ".py",
   "mimetype": "text/x-python",
   "name": "python",
   "nbconvert_exporter": "python",
   "pygments_lexer": "ipython2",
   "version": "2.7.6"
  }
 },
 "nbformat": 4,
 "nbformat_minor": 0
}