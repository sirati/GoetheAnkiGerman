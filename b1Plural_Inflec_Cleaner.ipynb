{
 "cells": [
  {
   "cell_type": "code",
   "execution_count": 246,
   "metadata": {
    "collapsed": true
   },
   "outputs": [],
   "source": [
    "import pandas\n",
    "import numpy as np\n",
    "\n",
    "\n",
    "column_names = ['noteid', 'fullgerman', 'de_word', 'de_word_audio', 'de_word_alt', 'de_word_note', 'de_word_article', 'de_word_plural', 'de_word_plural_audio', 'de_word_inflected', 'de_word_inflected_audio',\n",
    "                'en_word_1', 'en_word_1_note', 'de_sen_1', 'de_sen_1_audio', 'en_sen_1', 'de_sen_1_note',\n",
    "                'en_word_2', 'en_word_2_note', 'de_sen_2', 'de_sen_2_audio', 'en_sen_2', 'de_sen_2_note',\n",
    "                'en_word_3', 'en_word_3_note', 'de_sen_3', 'de_sen_3_audio', 'en_sen_3', 'de_sen_3_note',\n",
    "                'en_word_4', 'en_word_4_note', 'de_sen_4', 'de_sen_4_audio', 'en_sen_4', 'de_sen_4_note',\n",
    "                'en_word_5', 'en_word_5_note', 'de_sen_5', 'de_sen_5_audio', 'en_sen_5', 'de_sen_5_note',\n",
    "                'en_word_6', 'en_word_6_note', 'de_sen_6', 'de_sen_6_audio', 'en_sen_6', 'de_sen_6_note',\n",
    "                'en_word_7', 'en_word_7_note', 'de_sen_7', 'de_sen_7_audio', 'en_sen_7', 'de_sen_7_note',\n",
    "                'en_word_8', 'en_word_8_note', 'de_sen_8', 'de_sen_8_audio', 'en_sen_8', 'de_sen_8_note',\n",
    "                'en_word_9', 'en_word_9_note', 'de_sen_9', 'de_sen_9_audio', 'en_sen_9', 'de_sen_9_note',\n",
    "                'en_word_10', 'en_word_10_note', 'de_sen_10', 'de_sen_10_audio', 'en_sen_10', 'de_sen_10_note', 'part_of_speech', 'level', 'tags']\n",
    "\n",
    "df: pandas.DataFrame = pandas.read_csv(\"./data/DE_ Goethe Institut B1 Wortliste.csv\", header=None, encoding='utf8', engine='python', dtype=str)\n",
    "df.columns = column_names\n",
    "df = df.fillna(value='')"
   ]
  },
  {
   "cell_type": "code",
   "execution_count": 247,
   "outputs": [
    {
     "data": {
      "text/plain": "          noteid                                 fullgerman    de_word  \\\n0  1516347476210                                         ab         ab   \n1  1516347476211  abbiegen, biegt ab, bog ab, ist abgebogen   abbiegen   \n2  1516347476212                         die Abbildung, -en  Abbildung   \n3  1516347476213                                       aber       aber   \n4  1516347476214                         \"der Abfall, -\"\"e\"     Abfall   \n\n                                       de_word_audio de_word_alt de_word_note  \\\n0   [sound:sapi5js-886ae23d-2c2626cb-a94d173d-b36...                            \n1   [sound:sapi5js-937b8610-dd9a8ec3-f065fc4d-fcf...                            \n2   [sound:sapi5js-3075b7a4-967483d5-18ecf061-736...                            \n3   [sound:sapi5js-a1516b9c-66d0cfff-48ed6951-29a...                            \n4   [sound:sapi5js-3a56fed8-b6c53645-a125b433-6c6...                            \n\n  de_word_article de_word_plural de_word_plural_audio de_word_inflected  ...  \\\n0                                                                        ...   \n1                                                                        ...   \n2             die            -en                                         ...   \n3                                                                        ...   \n4             der         \"-\"\"e\"                                         ...   \n\n  de_sen_9_note en_word_10 en_word_10_note de_sen_10 de_sen_10_audio  \\\n0                                                                      \n1                                                                      \n2                                                                      \n3                                                                      \n4                                                                      \n\n  en_sen_10 de_sen_10_note part_of_speech level tags  \n0                                             1       \n1                                             2       \n2                                             3       \n3                                             4       \n4                                             5       \n\n[5 rows x 74 columns]",
      "text/html": "<div>\n<style scoped>\n    .dataframe tbody tr th:only-of-type {\n        vertical-align: middle;\n    }\n\n    .dataframe tbody tr th {\n        vertical-align: top;\n    }\n\n    .dataframe thead th {\n        text-align: right;\n    }\n</style>\n<table border=\"1\" class=\"dataframe\">\n  <thead>\n    <tr style=\"text-align: right;\">\n      <th></th>\n      <th>noteid</th>\n      <th>fullgerman</th>\n      <th>de_word</th>\n      <th>de_word_audio</th>\n      <th>de_word_alt</th>\n      <th>de_word_note</th>\n      <th>de_word_article</th>\n      <th>de_word_plural</th>\n      <th>de_word_plural_audio</th>\n      <th>de_word_inflected</th>\n      <th>...</th>\n      <th>de_sen_9_note</th>\n      <th>en_word_10</th>\n      <th>en_word_10_note</th>\n      <th>de_sen_10</th>\n      <th>de_sen_10_audio</th>\n      <th>en_sen_10</th>\n      <th>de_sen_10_note</th>\n      <th>part_of_speech</th>\n      <th>level</th>\n      <th>tags</th>\n    </tr>\n  </thead>\n  <tbody>\n    <tr>\n      <th>0</th>\n      <td>1516347476210</td>\n      <td>ab</td>\n      <td>ab</td>\n      <td>[sound:sapi5js-886ae23d-2c2626cb-a94d173d-b36...</td>\n      <td></td>\n      <td></td>\n      <td></td>\n      <td></td>\n      <td></td>\n      <td></td>\n      <td>...</td>\n      <td></td>\n      <td></td>\n      <td></td>\n      <td></td>\n      <td></td>\n      <td></td>\n      <td></td>\n      <td></td>\n      <td>1</td>\n      <td></td>\n    </tr>\n    <tr>\n      <th>1</th>\n      <td>1516347476211</td>\n      <td>abbiegen, biegt ab, bog ab, ist abgebogen</td>\n      <td>abbiegen</td>\n      <td>[sound:sapi5js-937b8610-dd9a8ec3-f065fc4d-fcf...</td>\n      <td></td>\n      <td></td>\n      <td></td>\n      <td></td>\n      <td></td>\n      <td></td>\n      <td>...</td>\n      <td></td>\n      <td></td>\n      <td></td>\n      <td></td>\n      <td></td>\n      <td></td>\n      <td></td>\n      <td></td>\n      <td>2</td>\n      <td></td>\n    </tr>\n    <tr>\n      <th>2</th>\n      <td>1516347476212</td>\n      <td>die Abbildung, -en</td>\n      <td>Abbildung</td>\n      <td>[sound:sapi5js-3075b7a4-967483d5-18ecf061-736...</td>\n      <td></td>\n      <td></td>\n      <td>die</td>\n      <td>-en</td>\n      <td></td>\n      <td></td>\n      <td>...</td>\n      <td></td>\n      <td></td>\n      <td></td>\n      <td></td>\n      <td></td>\n      <td></td>\n      <td></td>\n      <td></td>\n      <td>3</td>\n      <td></td>\n    </tr>\n    <tr>\n      <th>3</th>\n      <td>1516347476213</td>\n      <td>aber</td>\n      <td>aber</td>\n      <td>[sound:sapi5js-a1516b9c-66d0cfff-48ed6951-29a...</td>\n      <td></td>\n      <td></td>\n      <td></td>\n      <td></td>\n      <td></td>\n      <td></td>\n      <td>...</td>\n      <td></td>\n      <td></td>\n      <td></td>\n      <td></td>\n      <td></td>\n      <td></td>\n      <td></td>\n      <td></td>\n      <td>4</td>\n      <td></td>\n    </tr>\n    <tr>\n      <th>4</th>\n      <td>1516347476214</td>\n      <td>\"der Abfall, -\"\"e\"</td>\n      <td>Abfall</td>\n      <td>[sound:sapi5js-3a56fed8-b6c53645-a125b433-6c6...</td>\n      <td></td>\n      <td></td>\n      <td>der</td>\n      <td>\"-\"\"e\"</td>\n      <td></td>\n      <td></td>\n      <td>...</td>\n      <td></td>\n      <td></td>\n      <td></td>\n      <td></td>\n      <td></td>\n      <td></td>\n      <td></td>\n      <td></td>\n      <td>5</td>\n      <td></td>\n    </tr>\n  </tbody>\n</table>\n<p>5 rows × 74 columns</p>\n</div>"
     },
     "execution_count": 247,
     "metadata": {},
     "output_type": "execute_result"
    }
   ],
   "source": [
    "df.head()"
   ],
   "metadata": {
    "collapsed": false,
    "pycharm": {
     "name": "#%%\n"
    }
   }
  },
  {
   "cell_type": "code",
   "execution_count": 248,
   "outputs": [
    {
     "data": {
      "text/plain": "             noteid                                     fullgerman    de_word  \\\n0     1516347476210                                             ab         ab   \n1     1516347476211      abbiegen, biegt ab, bog ab, ist abgebogen   abbiegen   \n2     1516347476212                             die Abbildung, -en  Abbildung   \n3     1516347476213                                           aber       aber   \n4     1516347476214                                der Abfall, -\"e     Abfall   \n...             ...                                            ...        ...   \n2627  1516347478837                                  der Zweck, -e      Zweck   \n2628  1516347478838  zweifeln, zweifelt, zweifelte, hat gezweifelt   zweifeln   \n2629  1516347478839                                die Zwiebel, -n    Zwiebel   \n2630  1516347478840          zwingen, zwingt, zwang, hat gezwungen    zwingen   \n2631  1516347478841                                       zwischen   zwischen   \n\n                                          de_word_audio de_word_alt  \\\n0      [sound:sapi5js-886ae23d-2c2626cb-a94d173d-b36...               \n1      [sound:sapi5js-937b8610-dd9a8ec3-f065fc4d-fcf...               \n2      [sound:sapi5js-3075b7a4-967483d5-18ecf061-736...               \n3      [sound:sapi5js-a1516b9c-66d0cfff-48ed6951-29a...               \n4      [sound:sapi5js-3a56fed8-b6c53645-a125b433-6c6...               \n...                                                 ...         ...   \n2627   [sound:sapi5js-d3569cc1-6a4314a3-200cfdcf-6db...               \n2628   [sound:sapi5js-d97085bb-3e234b37-4a858325-652...               \n2629   [sound:sapi5js-db6a093a-e0315e6c-f91f24b3-b5a...               \n2630   [sound:sapi5js-b939c05e-e7aa8443-215b2903-57c...               \n2631   [sound:sapi5js-780dc740-1f00b5bc-4ca0c46a-ddf...               \n\n     de_word_note de_word_article de_word_plural de_word_plural_audio  \\\n0                                                                       \n1                                                                       \n2                             die            -en                        \n3                                                                       \n4                             der            -\"e                        \n...           ...             ...            ...                  ...   \n2627                          der             -e                        \n2628                                                                    \n2629                          die             -n                        \n2630                                                                    \n2631                                                                    \n\n     de_word_inflected  ... de_sen_9_note en_word_10 en_word_10_note  \\\n0                       ...                                            \n1                       ...                                            \n2                       ...                                            \n3                       ...                                            \n4                       ...                                            \n...                ...  ...           ...        ...             ...   \n2627                    ...                                            \n2628                    ...                                            \n2629                    ...                                            \n2630                    ...                                            \n2631                    ...                                            \n\n     de_sen_10 de_sen_10_audio en_sen_10 de_sen_10_note part_of_speech level  \\\n0                                                                          1   \n1                                                                          2   \n2                                                                          3   \n3                                                                          4   \n4                                                                          5   \n...        ...             ...       ...            ...            ...   ...   \n2627                                                                    2627   \n2628                                                                    2628   \n2629                                                                    2629   \n2630                                                                    2630   \n2631                                                                    2631   \n\n     tags  \n0          \n1          \n2          \n3          \n4          \n...   ...  \n2627       \n2628       \n2629       \n2630       \n2631       \n\n[2632 rows x 74 columns]",
      "text/html": "<div>\n<style scoped>\n    .dataframe tbody tr th:only-of-type {\n        vertical-align: middle;\n    }\n\n    .dataframe tbody tr th {\n        vertical-align: top;\n    }\n\n    .dataframe thead th {\n        text-align: right;\n    }\n</style>\n<table border=\"1\" class=\"dataframe\">\n  <thead>\n    <tr style=\"text-align: right;\">\n      <th></th>\n      <th>noteid</th>\n      <th>fullgerman</th>\n      <th>de_word</th>\n      <th>de_word_audio</th>\n      <th>de_word_alt</th>\n      <th>de_word_note</th>\n      <th>de_word_article</th>\n      <th>de_word_plural</th>\n      <th>de_word_plural_audio</th>\n      <th>de_word_inflected</th>\n      <th>...</th>\n      <th>de_sen_9_note</th>\n      <th>en_word_10</th>\n      <th>en_word_10_note</th>\n      <th>de_sen_10</th>\n      <th>de_sen_10_audio</th>\n      <th>en_sen_10</th>\n      <th>de_sen_10_note</th>\n      <th>part_of_speech</th>\n      <th>level</th>\n      <th>tags</th>\n    </tr>\n  </thead>\n  <tbody>\n    <tr>\n      <th>0</th>\n      <td>1516347476210</td>\n      <td>ab</td>\n      <td>ab</td>\n      <td>[sound:sapi5js-886ae23d-2c2626cb-a94d173d-b36...</td>\n      <td></td>\n      <td></td>\n      <td></td>\n      <td></td>\n      <td></td>\n      <td></td>\n      <td>...</td>\n      <td></td>\n      <td></td>\n      <td></td>\n      <td></td>\n      <td></td>\n      <td></td>\n      <td></td>\n      <td></td>\n      <td>1</td>\n      <td></td>\n    </tr>\n    <tr>\n      <th>1</th>\n      <td>1516347476211</td>\n      <td>abbiegen, biegt ab, bog ab, ist abgebogen</td>\n      <td>abbiegen</td>\n      <td>[sound:sapi5js-937b8610-dd9a8ec3-f065fc4d-fcf...</td>\n      <td></td>\n      <td></td>\n      <td></td>\n      <td></td>\n      <td></td>\n      <td></td>\n      <td>...</td>\n      <td></td>\n      <td></td>\n      <td></td>\n      <td></td>\n      <td></td>\n      <td></td>\n      <td></td>\n      <td></td>\n      <td>2</td>\n      <td></td>\n    </tr>\n    <tr>\n      <th>2</th>\n      <td>1516347476212</td>\n      <td>die Abbildung, -en</td>\n      <td>Abbildung</td>\n      <td>[sound:sapi5js-3075b7a4-967483d5-18ecf061-736...</td>\n      <td></td>\n      <td></td>\n      <td>die</td>\n      <td>-en</td>\n      <td></td>\n      <td></td>\n      <td>...</td>\n      <td></td>\n      <td></td>\n      <td></td>\n      <td></td>\n      <td></td>\n      <td></td>\n      <td></td>\n      <td></td>\n      <td>3</td>\n      <td></td>\n    </tr>\n    <tr>\n      <th>3</th>\n      <td>1516347476213</td>\n      <td>aber</td>\n      <td>aber</td>\n      <td>[sound:sapi5js-a1516b9c-66d0cfff-48ed6951-29a...</td>\n      <td></td>\n      <td></td>\n      <td></td>\n      <td></td>\n      <td></td>\n      <td></td>\n      <td>...</td>\n      <td></td>\n      <td></td>\n      <td></td>\n      <td></td>\n      <td></td>\n      <td></td>\n      <td></td>\n      <td></td>\n      <td>4</td>\n      <td></td>\n    </tr>\n    <tr>\n      <th>4</th>\n      <td>1516347476214</td>\n      <td>der Abfall, -\"e</td>\n      <td>Abfall</td>\n      <td>[sound:sapi5js-3a56fed8-b6c53645-a125b433-6c6...</td>\n      <td></td>\n      <td></td>\n      <td>der</td>\n      <td>-\"e</td>\n      <td></td>\n      <td></td>\n      <td>...</td>\n      <td></td>\n      <td></td>\n      <td></td>\n      <td></td>\n      <td></td>\n      <td></td>\n      <td></td>\n      <td></td>\n      <td>5</td>\n      <td></td>\n    </tr>\n    <tr>\n      <th>...</th>\n      <td>...</td>\n      <td>...</td>\n      <td>...</td>\n      <td>...</td>\n      <td>...</td>\n      <td>...</td>\n      <td>...</td>\n      <td>...</td>\n      <td>...</td>\n      <td>...</td>\n      <td>...</td>\n      <td>...</td>\n      <td>...</td>\n      <td>...</td>\n      <td>...</td>\n      <td>...</td>\n      <td>...</td>\n      <td>...</td>\n      <td>...</td>\n      <td>...</td>\n      <td>...</td>\n    </tr>\n    <tr>\n      <th>2627</th>\n      <td>1516347478837</td>\n      <td>der Zweck, -e</td>\n      <td>Zweck</td>\n      <td>[sound:sapi5js-d3569cc1-6a4314a3-200cfdcf-6db...</td>\n      <td></td>\n      <td></td>\n      <td>der</td>\n      <td>-e</td>\n      <td></td>\n      <td></td>\n      <td>...</td>\n      <td></td>\n      <td></td>\n      <td></td>\n      <td></td>\n      <td></td>\n      <td></td>\n      <td></td>\n      <td></td>\n      <td>2627</td>\n      <td></td>\n    </tr>\n    <tr>\n      <th>2628</th>\n      <td>1516347478838</td>\n      <td>zweifeln, zweifelt, zweifelte, hat gezweifelt</td>\n      <td>zweifeln</td>\n      <td>[sound:sapi5js-d97085bb-3e234b37-4a858325-652...</td>\n      <td></td>\n      <td></td>\n      <td></td>\n      <td></td>\n      <td></td>\n      <td></td>\n      <td>...</td>\n      <td></td>\n      <td></td>\n      <td></td>\n      <td></td>\n      <td></td>\n      <td></td>\n      <td></td>\n      <td></td>\n      <td>2628</td>\n      <td></td>\n    </tr>\n    <tr>\n      <th>2629</th>\n      <td>1516347478839</td>\n      <td>die Zwiebel, -n</td>\n      <td>Zwiebel</td>\n      <td>[sound:sapi5js-db6a093a-e0315e6c-f91f24b3-b5a...</td>\n      <td></td>\n      <td></td>\n      <td>die</td>\n      <td>-n</td>\n      <td></td>\n      <td></td>\n      <td>...</td>\n      <td></td>\n      <td></td>\n      <td></td>\n      <td></td>\n      <td></td>\n      <td></td>\n      <td></td>\n      <td></td>\n      <td>2629</td>\n      <td></td>\n    </tr>\n    <tr>\n      <th>2630</th>\n      <td>1516347478840</td>\n      <td>zwingen, zwingt, zwang, hat gezwungen</td>\n      <td>zwingen</td>\n      <td>[sound:sapi5js-b939c05e-e7aa8443-215b2903-57c...</td>\n      <td></td>\n      <td></td>\n      <td></td>\n      <td></td>\n      <td></td>\n      <td></td>\n      <td>...</td>\n      <td></td>\n      <td></td>\n      <td></td>\n      <td></td>\n      <td></td>\n      <td></td>\n      <td></td>\n      <td></td>\n      <td>2630</td>\n      <td></td>\n    </tr>\n    <tr>\n      <th>2631</th>\n      <td>1516347478841</td>\n      <td>zwischen</td>\n      <td>zwischen</td>\n      <td>[sound:sapi5js-780dc740-1f00b5bc-4ca0c46a-ddf...</td>\n      <td></td>\n      <td></td>\n      <td></td>\n      <td></td>\n      <td></td>\n      <td></td>\n      <td>...</td>\n      <td></td>\n      <td></td>\n      <td></td>\n      <td></td>\n      <td></td>\n      <td></td>\n      <td></td>\n      <td></td>\n      <td>2631</td>\n      <td></td>\n    </tr>\n  </tbody>\n</table>\n<p>2632 rows × 74 columns</p>\n</div>"
     },
     "execution_count": 248,
     "metadata": {},
     "output_type": "execute_result"
    }
   ],
   "source": [
    "for cn in df.columns:\n",
    "    mask = df[cn].str.startswith('\"')\n",
    "    df.loc[mask, cn] = [v[1:-1].replace('\"\"','\"') for v in df.loc[mask, cn]]\n",
    "\n",
    "df"
   ],
   "metadata": {
    "collapsed": false,
    "pycharm": {
     "name": "#%%\n"
    }
   }
  },
  {
   "cell_type": "markdown",
   "source": [
    "convert shorthand plural notation into written out one"
   ],
   "metadata": {
    "collapsed": false
   }
  },
  {
   "cell_type": "code",
   "execution_count": 249,
   "outputs": [],
   "source": [
    "mask = df.de_word_plural.str.startswith('-')\n",
    "pl_ending: pandas.DataFrame = df.de_word_plural[mask].str.replace('-','').str.split('/', expand=True)\n",
    "has_umlaut_change = pl_ending.apply(lambda s: s.str.contains('\"'))\n",
    "pl_ending = pl_ending.apply(lambda s: s.str.replace('\"','').str.strip())\n",
    "\n",
    "pl_ending.loc[:,'singular'] = df.de_word[mask].str.lower()\n",
    "pl_ending.loc[:,'first_aou'] = pandas.concat([pl_ending.singular.str.rfind('au').combine(pl_ending.singular.str.rfind('u'), lambda au, u: au if au+1==u else max(au, u)),\n",
    "                                              pl_ending.singular.str.rfind('a'),\n",
    "                                              pl_ending.singular.str.rfind('o')],\n",
    "                                             axis=1, copy=False).max(axis=1)\n",
    "\n",
    "pl_ending = pl_ending.transpose()\n",
    "has_umlaut_change = has_umlaut_change.transpose()\n",
    "\n",
    "\n",
    "plural: pandas.DataFrame = pl_ending.combine(has_umlaut_change, lambda endingS, umlautS:\n",
    "    umlautS[has_umlaut_change.index].combine(endingS[has_umlaut_change.index], lambda umlaut, ending:\n",
    "    None if ending is None else\n",
    "    ((endingS.singular[:endingS.first_aou] +\n",
    "    endingS.singular[endingS.first_aou].replace('a','ä')\n",
    "                                           .replace('o','ö')\n",
    "                                           .replace('u','ü') +\n",
    "    endingS.singular[endingS.first_aou+1:]\n",
    "    if umlaut else endingS.singular) + ending).title())).transpose()[has_umlaut_change.index]\n",
    "\n",
    "df.de_word_plural[mask] = plural.transpose().apply(lambda s: \", \".join(filter(None,s)))\n",
    "\n"
   ],
   "metadata": {
    "collapsed": false,
    "pycharm": {
     "name": "#%%\n"
    }
   }
  },
  {
   "cell_type": "markdown",
   "source": [
    "remove articles from plural"
   ],
   "metadata": {
    "collapsed": false
   }
  },
  {
   "cell_type": "code",
   "execution_count": 250,
   "outputs": [],
   "source": [
    "mask = df.de_word_plural.str.startswith('die ')\n",
    "df.de_word_plural[mask] = [v[4:] for v in df.de_word_plural[mask]]"
   ],
   "metadata": {
    "collapsed": false,
    "pycharm": {
     "name": "#%%\n"
    }
   }
  },
  {
   "cell_type": "markdown",
   "source": [
    "extract inflections"
   ],
   "metadata": {
    "collapsed": false
   }
  },
  {
   "cell_type": "code",
   "execution_count": 251,
   "outputs": [
    {
     "data": {
      "text/plain": "          noteid                                 fullgerman    de_word  \\\n0  1516347476210                                         ab         ab   \n1  1516347476211  abbiegen, biegt ab, bog ab, ist abgebogen   abbiegen   \n2  1516347476212                         die Abbildung, -en  Abbildung   \n3  1516347476213                                       aber       aber   \n4  1516347476214                            der Abfall, -\"e     Abfall   \n\n                                       de_word_audio de_word_alt de_word_note  \\\n0   [sound:sapi5js-886ae23d-2c2626cb-a94d173d-b36...                            \n1   [sound:sapi5js-937b8610-dd9a8ec3-f065fc4d-fcf...                            \n2   [sound:sapi5js-3075b7a4-967483d5-18ecf061-736...                            \n3   [sound:sapi5js-a1516b9c-66d0cfff-48ed6951-29a...                            \n4   [sound:sapi5js-3a56fed8-b6c53645-a125b433-6c6...                            \n\n  de_word_article de_word_plural de_word_plural_audio  \\\n0                                                       \n1                                                       \n2             die    Abbildungen                        \n3                                                       \n4             der        Abfälle                        \n\n                 de_word_inflected  ... de_sen_9_note en_word_10  \\\n0                                   ...                            \n1  biegt ab, bog ab, ist abgebogen  ...                            \n2                                   ...                            \n3                                   ...                            \n4                                   ...                            \n\n  en_word_10_note de_sen_10 de_sen_10_audio en_sen_10 de_sen_10_note  \\\n0                                                                      \n1                                                                      \n2                                                                      \n3                                                                      \n4                                                                      \n\n  part_of_speech level tags  \n0                    1       \n1                    2       \n2                    3       \n3                    4       \n4                    5       \n\n[5 rows x 74 columns]",
      "text/html": "<div>\n<style scoped>\n    .dataframe tbody tr th:only-of-type {\n        vertical-align: middle;\n    }\n\n    .dataframe tbody tr th {\n        vertical-align: top;\n    }\n\n    .dataframe thead th {\n        text-align: right;\n    }\n</style>\n<table border=\"1\" class=\"dataframe\">\n  <thead>\n    <tr style=\"text-align: right;\">\n      <th></th>\n      <th>noteid</th>\n      <th>fullgerman</th>\n      <th>de_word</th>\n      <th>de_word_audio</th>\n      <th>de_word_alt</th>\n      <th>de_word_note</th>\n      <th>de_word_article</th>\n      <th>de_word_plural</th>\n      <th>de_word_plural_audio</th>\n      <th>de_word_inflected</th>\n      <th>...</th>\n      <th>de_sen_9_note</th>\n      <th>en_word_10</th>\n      <th>en_word_10_note</th>\n      <th>de_sen_10</th>\n      <th>de_sen_10_audio</th>\n      <th>en_sen_10</th>\n      <th>de_sen_10_note</th>\n      <th>part_of_speech</th>\n      <th>level</th>\n      <th>tags</th>\n    </tr>\n  </thead>\n  <tbody>\n    <tr>\n      <th>0</th>\n      <td>1516347476210</td>\n      <td>ab</td>\n      <td>ab</td>\n      <td>[sound:sapi5js-886ae23d-2c2626cb-a94d173d-b36...</td>\n      <td></td>\n      <td></td>\n      <td></td>\n      <td></td>\n      <td></td>\n      <td></td>\n      <td>...</td>\n      <td></td>\n      <td></td>\n      <td></td>\n      <td></td>\n      <td></td>\n      <td></td>\n      <td></td>\n      <td></td>\n      <td>1</td>\n      <td></td>\n    </tr>\n    <tr>\n      <th>1</th>\n      <td>1516347476211</td>\n      <td>abbiegen, biegt ab, bog ab, ist abgebogen</td>\n      <td>abbiegen</td>\n      <td>[sound:sapi5js-937b8610-dd9a8ec3-f065fc4d-fcf...</td>\n      <td></td>\n      <td></td>\n      <td></td>\n      <td></td>\n      <td></td>\n      <td>biegt ab, bog ab, ist abgebogen</td>\n      <td>...</td>\n      <td></td>\n      <td></td>\n      <td></td>\n      <td></td>\n      <td></td>\n      <td></td>\n      <td></td>\n      <td></td>\n      <td>2</td>\n      <td></td>\n    </tr>\n    <tr>\n      <th>2</th>\n      <td>1516347476212</td>\n      <td>die Abbildung, -en</td>\n      <td>Abbildung</td>\n      <td>[sound:sapi5js-3075b7a4-967483d5-18ecf061-736...</td>\n      <td></td>\n      <td></td>\n      <td>die</td>\n      <td>Abbildungen</td>\n      <td></td>\n      <td></td>\n      <td>...</td>\n      <td></td>\n      <td></td>\n      <td></td>\n      <td></td>\n      <td></td>\n      <td></td>\n      <td></td>\n      <td></td>\n      <td>3</td>\n      <td></td>\n    </tr>\n    <tr>\n      <th>3</th>\n      <td>1516347476213</td>\n      <td>aber</td>\n      <td>aber</td>\n      <td>[sound:sapi5js-a1516b9c-66d0cfff-48ed6951-29a...</td>\n      <td></td>\n      <td></td>\n      <td></td>\n      <td></td>\n      <td></td>\n      <td></td>\n      <td>...</td>\n      <td></td>\n      <td></td>\n      <td></td>\n      <td></td>\n      <td></td>\n      <td></td>\n      <td></td>\n      <td></td>\n      <td>4</td>\n      <td></td>\n    </tr>\n    <tr>\n      <th>4</th>\n      <td>1516347476214</td>\n      <td>der Abfall, -\"e</td>\n      <td>Abfall</td>\n      <td>[sound:sapi5js-3a56fed8-b6c53645-a125b433-6c6...</td>\n      <td></td>\n      <td></td>\n      <td>der</td>\n      <td>Abfälle</td>\n      <td></td>\n      <td></td>\n      <td>...</td>\n      <td></td>\n      <td></td>\n      <td></td>\n      <td></td>\n      <td></td>\n      <td></td>\n      <td></td>\n      <td></td>\n      <td>5</td>\n      <td></td>\n    </tr>\n  </tbody>\n</table>\n<p>5 rows × 74 columns</p>\n</div>"
     },
     "execution_count": 251,
     "metadata": {},
     "output_type": "execute_result"
    }
   ],
   "source": [
    "mask = df.fullgerman.str.count(',')==3\n",
    "df.de_word_inflected[mask] = [v[v.find(',')+1:].strip() for v in df.fullgerman[mask]]\n",
    "df.head()"
   ],
   "metadata": {
    "collapsed": false,
    "pycharm": {
     "name": "#%%\n"
    }
   }
  },
  {
   "cell_type": "code",
   "source": [
    "df.to_csv(\"./data/DE_ Goethe Institut B1 WortlisteOut.csv\", header=False, index=False, encoding='utf8')"
   ],
   "metadata": {
    "collapsed": false,
    "pycharm": {
     "name": "#%%\n"
    }
   },
   "execution_count": 255,
   "outputs": []
  },
  {
   "cell_type": "markdown",
   "source": [],
   "metadata": {
    "collapsed": false,
    "pycharm": {
     "name": "#%% md\n"
    }
   }
  }
 ],
 "metadata": {
  "kernelspec": {
   "display_name": "Python 3",
   "language": "python",
   "name": "python3"
  },
  "language_info": {
   "codemirror_mode": {
    "name": "ipython",
    "version": 2
   },
   "file_extension": ".py",
   "mimetype": "text/x-python",
   "name": "python",
   "nbconvert_exporter": "python",
   "pygments_lexer": "ipython2",
   "version": "2.7.6"
  }
 },
 "nbformat": 4,
 "nbformat_minor": 0
}